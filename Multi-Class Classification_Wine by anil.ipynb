{
 "cells": [
  {
   "cell_type": "markdown",
   "metadata": {},
   "source": [
    "#**Multi-Class Classification**\n",
    "\n",
    "Concepts:\n",
    "    \n",
    "* Groupby Loop for ANOVA\n",
    "    \n",
    "* scaling data\n",
    "    \n",
    "* Model:\n",
    "        \n",
    "    * Logistic Regression\n",
    "        \n",
    "    * Naive Bayes (GaussianNB)\n",
    "        \n",
    "    * GridSearchCV Best hyperparameters to reduce Bias Error\n",
    "    \n",
    "    * Loop for detect best hyperparameters variance\n",
    "    \n",
    "* Advance Models:\n",
    "        \n",
    "     * KNN \n",
    "        \n",
    "     * DecisionTree\n",
    "        \n",
    "     * RandomForest\n",
    "        \n",
    "* Ensemble Techniques:\n",
    "        \n",
    "     * Boosted Logistic Regression\n",
    "        \n",
    "     * Bagging Classifier\n",
    "        \n",
    "     * AdaBoost Classifier\n",
    "        \n",
    "     * Gradient Boost\n",
    "        \n",
    "* Stacking: Don't pick Morethan 5\n",
    "        \n",
    "     *Logistic Regression, RandomForest, and Gradient Boost"
   ]
  },
  {
   "cell_type": "markdown",
   "metadata": {},
   "source": [
    "# **Machine Learning Steps**"
   ]
  },
  {
   "cell_type": "markdown",
   "metadata": {},
   "source": [
    "1. Load the data\n",
    "\n",
    "2. Explore the data, try to understand the relationship between dependent and independent variables.\n",
    "\n",
    "3. Data Cleaning / Feature Selection:\n",
    "\n",
    "  * Clean the data (if neccesary look for Nan values or drop NA or median imputation or KNN imputation as required)\n",
    "  \n",
    "  * Statistical Tests: Apply the appropriate test based on data. Levene, Two-Sample T-Test, ANOVA, Two-sample proportion test, or Chi-Square Test:\n",
    "  \n",
    "    **Tip**: Start by testing the signifance of the least correalated data. If that passes the p-value test that means by defaults all of others are significant. If it not, then go the least second correlated feature and test the signifance. Once a  feature passes any other variable which has higher correlation will automatically pass the test.\n",
    "\n",
    "4. Define X_final and Y. Include all significant feature in X_final \n",
    "\n",
    "\n",
    "   * For Classification Model: Scale the data after defining X, \"sc.fit_transform(X_Final)\". NOT REQUIRED FOR REGRESSION\n",
    "\n",
    "5. Start with SIMPLE Model such as (Linear Regression or Logistic Regression) by using k-fold cross validation loop\n",
    "\n",
    "  * Rule of Thumb for K-Fold:\n",
    "  \n",
    "  * Data points: 300 (k-fold = 3), 400 - 500 (k-fold = 5), 1000 (k-fold = 5 -7), 5000 (k-fold = 10 - 15), as data points increase gradually increase the fold\n",
    "\n",
    "6. Validate the linear model based on metrics: (Ex: we are k-fold 5)\n",
    "\n",
    "  * Regression: RMSE score (Smaller the score the better the Model)\n",
    "  \n",
    "  * Bias Error: Average of RMSE is Bias Error. Ex: We would get 5 RMSE scores for 5-fold cv, we take average of these score and     that is the bias error.\n",
    "  \n",
    "  * Variance Error: Variance of RMSE scores is variance Error\n",
    "  \n",
    "  * Binary (1/0) Classification Model: AUC Score (Larger the score the better)\n",
    "  \n",
    "  * Bias Error: 1 - (Average AUC Scores). Ex: 5-fold cv we get 5 AUC scores, 1 - (average of 5 scores) = Bias Error of the mode\n",
    "  \n",
    "  * Variance Error: Variance of AUC Scores is variance error\n",
    "  \n",
    "  * Multi-Class Classification: Weighted F-1 Score (Larger the score the better the Model)\n",
    "  \n",
    "   * Bias Error: 1 - (Average Weighted F-1 Scores). Ex: 5-fold cv we get 5 Weighted F-1 Scores, 1 - (average of 5 scores) =         Bias Error of the model\n",
    "   \n",
    "   * Variance Error: Variance of Weighted F-1 Scores is variance error\n",
    "\n",
    "7. Next, start with model which we input hyperparameters\n",
    "  * GridSeachCV for find hyperparameters when you want to consider BIAS error\n",
    "  \n",
    "        **OR**\n",
    "\n",
    "  * Run a loop **(RECOMMENDED)** to find the best hyperparameters, this method is recommened because GridSearchCV only takes BIAS error into account and not variance error. Ex: We are trying to figure out the best hyperparameters for KNN run a loop and print and variance to find the which combination of hyperparameters gives the least bias and variance error: \n",
    "\n",
    "  Hyperparameters we look for:\n",
    "\n",
    "  * KNN: n_neighbors\n",
    "  * Decision Tree: max_depth (arange(1,50, it also depends on data size), criterion  = [gini or entropy]\n",
    "  * Ensemble Models: n_estimators (arange(1,50 or 100)\n"
   ]
  },
  {
   "cell_type": "code",
   "execution_count": 1,
   "metadata": {},
   "outputs": [],
   "source": [
    "import numpy as np\n",
    "import pandas as pd\n",
    "from matplotlib import pyplot as plt\n",
    "%matplotlib inline\n",
    "import seaborn as sns\n",
    "from sklearn.model_selection import train_test_split, KFold, cross_val_score, GridSearchCV\n",
    "from sklearn.linear_model import LinearRegression, Ridge, Lasso, ElasticNet, LogisticRegression\n",
    "from sklearn.preprocessing import StandardScaler\n",
    "from sklearn import model_selection\n",
    "import scipy.stats as stats\n",
    "import statsmodels.formula.api as smf\n",
    "import statsmodels.api as sm\n",
    "from sklearn import metrics\n",
    "from sklearn.naive_bayes import GaussianNB\n",
    "from sklearn.neighbors import KNeighborsClassifier\n",
    "from sklearn.tree import DecisionTreeClassifier\n",
    "from sklearn.ensemble import RandomForestClassifier, BaggingClassifier, AdaBoostClassifier, GradientBoostingClassifier, VotingClassifier\n",
    "import warnings \n",
    "warnings.filterwarnings('ignore')"
   ]
  },
  {
   "cell_type": "code",
   "execution_count": 2,
   "metadata": {},
   "outputs": [
    {
     "data": {
      "text/html": [
       "<div>\n",
       "<style scoped>\n",
       "    .dataframe tbody tr th:only-of-type {\n",
       "        vertical-align: middle;\n",
       "    }\n",
       "\n",
       "    .dataframe tbody tr th {\n",
       "        vertical-align: top;\n",
       "    }\n",
       "\n",
       "    .dataframe thead th {\n",
       "        text-align: right;\n",
       "    }\n",
       "</style>\n",
       "<table border=\"1\" class=\"dataframe\">\n",
       "  <thead>\n",
       "    <tr style=\"text-align: right;\">\n",
       "      <th></th>\n",
       "      <th>1</th>\n",
       "      <th>14.23</th>\n",
       "      <th>1.71</th>\n",
       "      <th>2.43</th>\n",
       "      <th>15.6</th>\n",
       "      <th>127</th>\n",
       "      <th>2.8</th>\n",
       "      <th>3.06</th>\n",
       "      <th>.28</th>\n",
       "      <th>2.29</th>\n",
       "      <th>5.64</th>\n",
       "      <th>1.04</th>\n",
       "      <th>3.92</th>\n",
       "      <th>1065</th>\n",
       "    </tr>\n",
       "  </thead>\n",
       "  <tbody>\n",
       "    <tr>\n",
       "      <th>0</th>\n",
       "      <td>1</td>\n",
       "      <td>13.20</td>\n",
       "      <td>1.78</td>\n",
       "      <td>2.14</td>\n",
       "      <td>11.2</td>\n",
       "      <td>100</td>\n",
       "      <td>2.65</td>\n",
       "      <td>2.76</td>\n",
       "      <td>0.26</td>\n",
       "      <td>1.28</td>\n",
       "      <td>4.38</td>\n",
       "      <td>1.05</td>\n",
       "      <td>3.40</td>\n",
       "      <td>1050</td>\n",
       "    </tr>\n",
       "    <tr>\n",
       "      <th>1</th>\n",
       "      <td>1</td>\n",
       "      <td>13.16</td>\n",
       "      <td>2.36</td>\n",
       "      <td>2.67</td>\n",
       "      <td>18.6</td>\n",
       "      <td>101</td>\n",
       "      <td>2.80</td>\n",
       "      <td>3.24</td>\n",
       "      <td>0.30</td>\n",
       "      <td>2.81</td>\n",
       "      <td>5.68</td>\n",
       "      <td>1.03</td>\n",
       "      <td>3.17</td>\n",
       "      <td>1185</td>\n",
       "    </tr>\n",
       "    <tr>\n",
       "      <th>2</th>\n",
       "      <td>1</td>\n",
       "      <td>14.37</td>\n",
       "      <td>1.95</td>\n",
       "      <td>2.50</td>\n",
       "      <td>16.8</td>\n",
       "      <td>113</td>\n",
       "      <td>3.85</td>\n",
       "      <td>3.49</td>\n",
       "      <td>0.24</td>\n",
       "      <td>2.18</td>\n",
       "      <td>7.80</td>\n",
       "      <td>0.86</td>\n",
       "      <td>3.45</td>\n",
       "      <td>1480</td>\n",
       "    </tr>\n",
       "    <tr>\n",
       "      <th>3</th>\n",
       "      <td>1</td>\n",
       "      <td>13.24</td>\n",
       "      <td>2.59</td>\n",
       "      <td>2.87</td>\n",
       "      <td>21.0</td>\n",
       "      <td>118</td>\n",
       "      <td>2.80</td>\n",
       "      <td>2.69</td>\n",
       "      <td>0.39</td>\n",
       "      <td>1.82</td>\n",
       "      <td>4.32</td>\n",
       "      <td>1.04</td>\n",
       "      <td>2.93</td>\n",
       "      <td>735</td>\n",
       "    </tr>\n",
       "    <tr>\n",
       "      <th>4</th>\n",
       "      <td>1</td>\n",
       "      <td>14.20</td>\n",
       "      <td>1.76</td>\n",
       "      <td>2.45</td>\n",
       "      <td>15.2</td>\n",
       "      <td>112</td>\n",
       "      <td>3.27</td>\n",
       "      <td>3.39</td>\n",
       "      <td>0.34</td>\n",
       "      <td>1.97</td>\n",
       "      <td>6.75</td>\n",
       "      <td>1.05</td>\n",
       "      <td>2.85</td>\n",
       "      <td>1450</td>\n",
       "    </tr>\n",
       "  </tbody>\n",
       "</table>\n",
       "</div>"
      ],
      "text/plain": [
       "   1  14.23  1.71  2.43  15.6  127   2.8  3.06   .28  2.29  5.64  1.04  3.92  \\\n",
       "0  1  13.20  1.78  2.14  11.2  100  2.65  2.76  0.26  1.28  4.38  1.05  3.40   \n",
       "1  1  13.16  2.36  2.67  18.6  101  2.80  3.24  0.30  2.81  5.68  1.03  3.17   \n",
       "2  1  14.37  1.95  2.50  16.8  113  3.85  3.49  0.24  2.18  7.80  0.86  3.45   \n",
       "3  1  13.24  2.59  2.87  21.0  118  2.80  2.69  0.39  1.82  4.32  1.04  2.93   \n",
       "4  1  14.20  1.76  2.45  15.2  112  3.27  3.39  0.34  1.97  6.75  1.05  2.85   \n",
       "\n",
       "   1065  \n",
       "0  1050  \n",
       "1  1185  \n",
       "2  1480  \n",
       "3   735  \n",
       "4  1450  "
      ]
     },
     "execution_count": 2,
     "metadata": {},
     "output_type": "execute_result"
    }
   ],
   "source": [
    "df = pd.read_csv('wine.xls')\n",
    "df.head()"
   ]
  },
  {
   "cell_type": "code",
   "execution_count": 3,
   "metadata": {},
   "outputs": [],
   "source": [
    "column_names = ['Cultivator', 'Alcohol', 'Malic_Acid', 'Ash', 'Alcalinity_of_Ash', 'Magnesium', 'Total_phenols',\n",
    "                'Falvanoid', 'Nonflavanoid_phenols', 'Proanthocyanins', 'Color_intensity', 'Hue', 'OD280', 'Proline']"
   ]
  },
  {
   "cell_type": "code",
   "execution_count": 4,
   "metadata": {},
   "outputs": [
    {
     "data": {
      "text/html": [
       "<div>\n",
       "<style scoped>\n",
       "    .dataframe tbody tr th:only-of-type {\n",
       "        vertical-align: middle;\n",
       "    }\n",
       "\n",
       "    .dataframe tbody tr th {\n",
       "        vertical-align: top;\n",
       "    }\n",
       "\n",
       "    .dataframe thead th {\n",
       "        text-align: right;\n",
       "    }\n",
       "</style>\n",
       "<table border=\"1\" class=\"dataframe\">\n",
       "  <thead>\n",
       "    <tr style=\"text-align: right;\">\n",
       "      <th></th>\n",
       "      <th>Cultivator</th>\n",
       "      <th>Alcohol</th>\n",
       "      <th>Malic_Acid</th>\n",
       "      <th>Ash</th>\n",
       "      <th>Alcalinity_of_Ash</th>\n",
       "      <th>Magnesium</th>\n",
       "      <th>Total_phenols</th>\n",
       "      <th>Falvanoid</th>\n",
       "      <th>Nonflavanoid_phenols</th>\n",
       "      <th>Proanthocyanins</th>\n",
       "      <th>Color_intensity</th>\n",
       "      <th>Hue</th>\n",
       "      <th>OD280</th>\n",
       "      <th>Proline</th>\n",
       "    </tr>\n",
       "  </thead>\n",
       "  <tbody>\n",
       "    <tr>\n",
       "      <th>0</th>\n",
       "      <td>1</td>\n",
       "      <td>14.23</td>\n",
       "      <td>1.71</td>\n",
       "      <td>2.43</td>\n",
       "      <td>15.6</td>\n",
       "      <td>127</td>\n",
       "      <td>2.80</td>\n",
       "      <td>3.06</td>\n",
       "      <td>0.28</td>\n",
       "      <td>2.29</td>\n",
       "      <td>5.64</td>\n",
       "      <td>1.04</td>\n",
       "      <td>3.92</td>\n",
       "      <td>1065</td>\n",
       "    </tr>\n",
       "    <tr>\n",
       "      <th>1</th>\n",
       "      <td>1</td>\n",
       "      <td>13.20</td>\n",
       "      <td>1.78</td>\n",
       "      <td>2.14</td>\n",
       "      <td>11.2</td>\n",
       "      <td>100</td>\n",
       "      <td>2.65</td>\n",
       "      <td>2.76</td>\n",
       "      <td>0.26</td>\n",
       "      <td>1.28</td>\n",
       "      <td>4.38</td>\n",
       "      <td>1.05</td>\n",
       "      <td>3.40</td>\n",
       "      <td>1050</td>\n",
       "    </tr>\n",
       "    <tr>\n",
       "      <th>2</th>\n",
       "      <td>1</td>\n",
       "      <td>13.16</td>\n",
       "      <td>2.36</td>\n",
       "      <td>2.67</td>\n",
       "      <td>18.6</td>\n",
       "      <td>101</td>\n",
       "      <td>2.80</td>\n",
       "      <td>3.24</td>\n",
       "      <td>0.30</td>\n",
       "      <td>2.81</td>\n",
       "      <td>5.68</td>\n",
       "      <td>1.03</td>\n",
       "      <td>3.17</td>\n",
       "      <td>1185</td>\n",
       "    </tr>\n",
       "    <tr>\n",
       "      <th>3</th>\n",
       "      <td>1</td>\n",
       "      <td>14.37</td>\n",
       "      <td>1.95</td>\n",
       "      <td>2.50</td>\n",
       "      <td>16.8</td>\n",
       "      <td>113</td>\n",
       "      <td>3.85</td>\n",
       "      <td>3.49</td>\n",
       "      <td>0.24</td>\n",
       "      <td>2.18</td>\n",
       "      <td>7.80</td>\n",
       "      <td>0.86</td>\n",
       "      <td>3.45</td>\n",
       "      <td>1480</td>\n",
       "    </tr>\n",
       "    <tr>\n",
       "      <th>4</th>\n",
       "      <td>1</td>\n",
       "      <td>13.24</td>\n",
       "      <td>2.59</td>\n",
       "      <td>2.87</td>\n",
       "      <td>21.0</td>\n",
       "      <td>118</td>\n",
       "      <td>2.80</td>\n",
       "      <td>2.69</td>\n",
       "      <td>0.39</td>\n",
       "      <td>1.82</td>\n",
       "      <td>4.32</td>\n",
       "      <td>1.04</td>\n",
       "      <td>2.93</td>\n",
       "      <td>735</td>\n",
       "    </tr>\n",
       "  </tbody>\n",
       "</table>\n",
       "</div>"
      ],
      "text/plain": [
       "   Cultivator  Alcohol  Malic_Acid   Ash  Alcalinity_of_Ash  Magnesium  \\\n",
       "0           1    14.23        1.71  2.43               15.6        127   \n",
       "1           1    13.20        1.78  2.14               11.2        100   \n",
       "2           1    13.16        2.36  2.67               18.6        101   \n",
       "3           1    14.37        1.95  2.50               16.8        113   \n",
       "4           1    13.24        2.59  2.87               21.0        118   \n",
       "\n",
       "   Total_phenols  Falvanoid  Nonflavanoid_phenols  Proanthocyanins  \\\n",
       "0           2.80       3.06                  0.28             2.29   \n",
       "1           2.65       2.76                  0.26             1.28   \n",
       "2           2.80       3.24                  0.30             2.81   \n",
       "3           3.85       3.49                  0.24             2.18   \n",
       "4           2.80       2.69                  0.39             1.82   \n",
       "\n",
       "   Color_intensity   Hue  OD280  Proline  \n",
       "0             5.64  1.04   3.92     1065  \n",
       "1             4.38  1.05   3.40     1050  \n",
       "2             5.68  1.03   3.17     1185  \n",
       "3             7.80  0.86   3.45     1480  \n",
       "4             4.32  1.04   2.93      735  "
      ]
     },
     "execution_count": 4,
     "metadata": {},
     "output_type": "execute_result"
    }
   ],
   "source": [
    "df = pd.read_csv('wine.xls',names = column_names)\n",
    "df.head()"
   ]
  },
  {
   "cell_type": "code",
   "execution_count": 5,
   "metadata": {},
   "outputs": [
    {
     "data": {
      "text/plain": [
       "(178, 14)"
      ]
     },
     "execution_count": 5,
     "metadata": {},
     "output_type": "execute_result"
    }
   ],
   "source": [
    "df.shape"
   ]
  },
  {
   "cell_type": "code",
   "execution_count": 6,
   "metadata": {},
   "outputs": [
    {
     "name": "stdout",
     "output_type": "stream",
     "text": [
      "<class 'pandas.core.frame.DataFrame'>\n",
      "RangeIndex: 178 entries, 0 to 177\n",
      "Data columns (total 14 columns):\n",
      "Cultivator              178 non-null int64\n",
      "Alcohol                 178 non-null float64\n",
      "Malic_Acid              178 non-null float64\n",
      "Ash                     178 non-null float64\n",
      "Alcalinity_of_Ash       178 non-null float64\n",
      "Magnesium               178 non-null int64\n",
      "Total_phenols           178 non-null float64\n",
      "Falvanoid               178 non-null float64\n",
      "Nonflavanoid_phenols    178 non-null float64\n",
      "Proanthocyanins         178 non-null float64\n",
      "Color_intensity         178 non-null float64\n",
      "Hue                     178 non-null float64\n",
      "OD280                   178 non-null float64\n",
      "Proline                 178 non-null int64\n",
      "dtypes: float64(11), int64(3)\n",
      "memory usage: 19.5 KB\n"
     ]
    }
   ],
   "source": [
    "df.info()"
   ]
  },
  {
   "cell_type": "code",
   "execution_count": 7,
   "metadata": {},
   "outputs": [
    {
     "data": {
      "text/plain": [
       "2    71\n",
       "1    59\n",
       "3    48\n",
       "Name: Cultivator, dtype: int64"
      ]
     },
     "execution_count": 7,
     "metadata": {},
     "output_type": "execute_result"
    }
   ],
   "source": [
    "df['Cultivator'].value_counts()"
   ]
  },
  {
   "cell_type": "markdown",
   "metadata": {},
   "source": [
    "Cultivator is Our Target Variable which has 3 classes"
   ]
  },
  {
   "cell_type": "code",
   "execution_count": 8,
   "metadata": {},
   "outputs": [
    {
     "data": {
      "text/html": [
       "<div>\n",
       "<style scoped>\n",
       "    .dataframe tbody tr th:only-of-type {\n",
       "        vertical-align: middle;\n",
       "    }\n",
       "\n",
       "    .dataframe tbody tr th {\n",
       "        vertical-align: top;\n",
       "    }\n",
       "\n",
       "    .dataframe thead th {\n",
       "        text-align: right;\n",
       "    }\n",
       "</style>\n",
       "<table border=\"1\" class=\"dataframe\">\n",
       "  <thead>\n",
       "    <tr style=\"text-align: right;\">\n",
       "      <th></th>\n",
       "      <th>Cultivator</th>\n",
       "      <th>Alcohol</th>\n",
       "      <th>Malic_Acid</th>\n",
       "      <th>Ash</th>\n",
       "      <th>Alcalinity_of_Ash</th>\n",
       "      <th>Magnesium</th>\n",
       "      <th>Total_phenols</th>\n",
       "      <th>Falvanoid</th>\n",
       "      <th>Nonflavanoid_phenols</th>\n",
       "      <th>Proanthocyanins</th>\n",
       "      <th>Color_intensity</th>\n",
       "      <th>Hue</th>\n",
       "      <th>OD280</th>\n",
       "      <th>Proline</th>\n",
       "    </tr>\n",
       "  </thead>\n",
       "  <tbody>\n",
       "    <tr>\n",
       "      <th>Cultivator</th>\n",
       "      <td>1.000000</td>\n",
       "      <td>-0.328222</td>\n",
       "      <td>0.437776</td>\n",
       "      <td>-0.049643</td>\n",
       "      <td>0.517859</td>\n",
       "      <td>-0.209179</td>\n",
       "      <td>-0.719163</td>\n",
       "      <td>-0.847498</td>\n",
       "      <td>0.489109</td>\n",
       "      <td>-0.499130</td>\n",
       "      <td>0.265668</td>\n",
       "      <td>-0.617369</td>\n",
       "      <td>-0.788230</td>\n",
       "      <td>-0.633717</td>\n",
       "    </tr>\n",
       "    <tr>\n",
       "      <th>Alcohol</th>\n",
       "      <td>-0.328222</td>\n",
       "      <td>1.000000</td>\n",
       "      <td>0.094397</td>\n",
       "      <td>0.211545</td>\n",
       "      <td>-0.310235</td>\n",
       "      <td>0.270798</td>\n",
       "      <td>0.289101</td>\n",
       "      <td>0.236815</td>\n",
       "      <td>-0.155929</td>\n",
       "      <td>0.136698</td>\n",
       "      <td>0.546364</td>\n",
       "      <td>-0.071747</td>\n",
       "      <td>0.072343</td>\n",
       "      <td>0.643720</td>\n",
       "    </tr>\n",
       "    <tr>\n",
       "      <th>Malic_Acid</th>\n",
       "      <td>0.437776</td>\n",
       "      <td>0.094397</td>\n",
       "      <td>1.000000</td>\n",
       "      <td>0.164045</td>\n",
       "      <td>0.288500</td>\n",
       "      <td>-0.054575</td>\n",
       "      <td>-0.335167</td>\n",
       "      <td>-0.411007</td>\n",
       "      <td>0.292977</td>\n",
       "      <td>-0.220746</td>\n",
       "      <td>0.248985</td>\n",
       "      <td>-0.561296</td>\n",
       "      <td>-0.368710</td>\n",
       "      <td>-0.192011</td>\n",
       "    </tr>\n",
       "    <tr>\n",
       "      <th>Ash</th>\n",
       "      <td>-0.049643</td>\n",
       "      <td>0.211545</td>\n",
       "      <td>0.164045</td>\n",
       "      <td>1.000000</td>\n",
       "      <td>0.443367</td>\n",
       "      <td>0.286587</td>\n",
       "      <td>0.128980</td>\n",
       "      <td>0.115077</td>\n",
       "      <td>0.186230</td>\n",
       "      <td>0.009652</td>\n",
       "      <td>0.258887</td>\n",
       "      <td>-0.074667</td>\n",
       "      <td>0.003911</td>\n",
       "      <td>0.223626</td>\n",
       "    </tr>\n",
       "    <tr>\n",
       "      <th>Alcalinity_of_Ash</th>\n",
       "      <td>0.517859</td>\n",
       "      <td>-0.310235</td>\n",
       "      <td>0.288500</td>\n",
       "      <td>0.443367</td>\n",
       "      <td>1.000000</td>\n",
       "      <td>-0.083333</td>\n",
       "      <td>-0.321113</td>\n",
       "      <td>-0.351370</td>\n",
       "      <td>0.361922</td>\n",
       "      <td>-0.197327</td>\n",
       "      <td>0.018732</td>\n",
       "      <td>-0.273955</td>\n",
       "      <td>-0.276769</td>\n",
       "      <td>-0.440597</td>\n",
       "    </tr>\n",
       "    <tr>\n",
       "      <th>Magnesium</th>\n",
       "      <td>-0.209179</td>\n",
       "      <td>0.270798</td>\n",
       "      <td>-0.054575</td>\n",
       "      <td>0.286587</td>\n",
       "      <td>-0.083333</td>\n",
       "      <td>1.000000</td>\n",
       "      <td>0.214401</td>\n",
       "      <td>0.195784</td>\n",
       "      <td>-0.256294</td>\n",
       "      <td>0.236441</td>\n",
       "      <td>0.199950</td>\n",
       "      <td>0.055398</td>\n",
       "      <td>0.066004</td>\n",
       "      <td>0.393351</td>\n",
       "    </tr>\n",
       "    <tr>\n",
       "      <th>Total_phenols</th>\n",
       "      <td>-0.719163</td>\n",
       "      <td>0.289101</td>\n",
       "      <td>-0.335167</td>\n",
       "      <td>0.128980</td>\n",
       "      <td>-0.321113</td>\n",
       "      <td>0.214401</td>\n",
       "      <td>1.000000</td>\n",
       "      <td>0.864564</td>\n",
       "      <td>-0.449935</td>\n",
       "      <td>0.612413</td>\n",
       "      <td>-0.055136</td>\n",
       "      <td>0.433681</td>\n",
       "      <td>0.699949</td>\n",
       "      <td>0.498115</td>\n",
       "    </tr>\n",
       "    <tr>\n",
       "      <th>Falvanoid</th>\n",
       "      <td>-0.847498</td>\n",
       "      <td>0.236815</td>\n",
       "      <td>-0.411007</td>\n",
       "      <td>0.115077</td>\n",
       "      <td>-0.351370</td>\n",
       "      <td>0.195784</td>\n",
       "      <td>0.864564</td>\n",
       "      <td>1.000000</td>\n",
       "      <td>-0.537900</td>\n",
       "      <td>0.652692</td>\n",
       "      <td>-0.172379</td>\n",
       "      <td>0.543479</td>\n",
       "      <td>0.787194</td>\n",
       "      <td>0.494193</td>\n",
       "    </tr>\n",
       "    <tr>\n",
       "      <th>Nonflavanoid_phenols</th>\n",
       "      <td>0.489109</td>\n",
       "      <td>-0.155929</td>\n",
       "      <td>0.292977</td>\n",
       "      <td>0.186230</td>\n",
       "      <td>0.361922</td>\n",
       "      <td>-0.256294</td>\n",
       "      <td>-0.449935</td>\n",
       "      <td>-0.537900</td>\n",
       "      <td>1.000000</td>\n",
       "      <td>-0.365845</td>\n",
       "      <td>0.139057</td>\n",
       "      <td>-0.262640</td>\n",
       "      <td>-0.503270</td>\n",
       "      <td>-0.311385</td>\n",
       "    </tr>\n",
       "    <tr>\n",
       "      <th>Proanthocyanins</th>\n",
       "      <td>-0.499130</td>\n",
       "      <td>0.136698</td>\n",
       "      <td>-0.220746</td>\n",
       "      <td>0.009652</td>\n",
       "      <td>-0.197327</td>\n",
       "      <td>0.236441</td>\n",
       "      <td>0.612413</td>\n",
       "      <td>0.652692</td>\n",
       "      <td>-0.365845</td>\n",
       "      <td>1.000000</td>\n",
       "      <td>-0.025250</td>\n",
       "      <td>0.295544</td>\n",
       "      <td>0.519067</td>\n",
       "      <td>0.330417</td>\n",
       "    </tr>\n",
       "    <tr>\n",
       "      <th>Color_intensity</th>\n",
       "      <td>0.265668</td>\n",
       "      <td>0.546364</td>\n",
       "      <td>0.248985</td>\n",
       "      <td>0.258887</td>\n",
       "      <td>0.018732</td>\n",
       "      <td>0.199950</td>\n",
       "      <td>-0.055136</td>\n",
       "      <td>-0.172379</td>\n",
       "      <td>0.139057</td>\n",
       "      <td>-0.025250</td>\n",
       "      <td>1.000000</td>\n",
       "      <td>-0.521813</td>\n",
       "      <td>-0.428815</td>\n",
       "      <td>0.316100</td>\n",
       "    </tr>\n",
       "    <tr>\n",
       "      <th>Hue</th>\n",
       "      <td>-0.617369</td>\n",
       "      <td>-0.071747</td>\n",
       "      <td>-0.561296</td>\n",
       "      <td>-0.074667</td>\n",
       "      <td>-0.273955</td>\n",
       "      <td>0.055398</td>\n",
       "      <td>0.433681</td>\n",
       "      <td>0.543479</td>\n",
       "      <td>-0.262640</td>\n",
       "      <td>0.295544</td>\n",
       "      <td>-0.521813</td>\n",
       "      <td>1.000000</td>\n",
       "      <td>0.565468</td>\n",
       "      <td>0.236183</td>\n",
       "    </tr>\n",
       "    <tr>\n",
       "      <th>OD280</th>\n",
       "      <td>-0.788230</td>\n",
       "      <td>0.072343</td>\n",
       "      <td>-0.368710</td>\n",
       "      <td>0.003911</td>\n",
       "      <td>-0.276769</td>\n",
       "      <td>0.066004</td>\n",
       "      <td>0.699949</td>\n",
       "      <td>0.787194</td>\n",
       "      <td>-0.503270</td>\n",
       "      <td>0.519067</td>\n",
       "      <td>-0.428815</td>\n",
       "      <td>0.565468</td>\n",
       "      <td>1.000000</td>\n",
       "      <td>0.312761</td>\n",
       "    </tr>\n",
       "    <tr>\n",
       "      <th>Proline</th>\n",
       "      <td>-0.633717</td>\n",
       "      <td>0.643720</td>\n",
       "      <td>-0.192011</td>\n",
       "      <td>0.223626</td>\n",
       "      <td>-0.440597</td>\n",
       "      <td>0.393351</td>\n",
       "      <td>0.498115</td>\n",
       "      <td>0.494193</td>\n",
       "      <td>-0.311385</td>\n",
       "      <td>0.330417</td>\n",
       "      <td>0.316100</td>\n",
       "      <td>0.236183</td>\n",
       "      <td>0.312761</td>\n",
       "      <td>1.000000</td>\n",
       "    </tr>\n",
       "  </tbody>\n",
       "</table>\n",
       "</div>"
      ],
      "text/plain": [
       "                      Cultivator   Alcohol  Malic_Acid       Ash  \\\n",
       "Cultivator              1.000000 -0.328222    0.437776 -0.049643   \n",
       "Alcohol                -0.328222  1.000000    0.094397  0.211545   \n",
       "Malic_Acid              0.437776  0.094397    1.000000  0.164045   \n",
       "Ash                    -0.049643  0.211545    0.164045  1.000000   \n",
       "Alcalinity_of_Ash       0.517859 -0.310235    0.288500  0.443367   \n",
       "Magnesium              -0.209179  0.270798   -0.054575  0.286587   \n",
       "Total_phenols          -0.719163  0.289101   -0.335167  0.128980   \n",
       "Falvanoid              -0.847498  0.236815   -0.411007  0.115077   \n",
       "Nonflavanoid_phenols    0.489109 -0.155929    0.292977  0.186230   \n",
       "Proanthocyanins        -0.499130  0.136698   -0.220746  0.009652   \n",
       "Color_intensity         0.265668  0.546364    0.248985  0.258887   \n",
       "Hue                    -0.617369 -0.071747   -0.561296 -0.074667   \n",
       "OD280                  -0.788230  0.072343   -0.368710  0.003911   \n",
       "Proline                -0.633717  0.643720   -0.192011  0.223626   \n",
       "\n",
       "                      Alcalinity_of_Ash  Magnesium  Total_phenols  Falvanoid  \\\n",
       "Cultivator                     0.517859  -0.209179      -0.719163  -0.847498   \n",
       "Alcohol                       -0.310235   0.270798       0.289101   0.236815   \n",
       "Malic_Acid                     0.288500  -0.054575      -0.335167  -0.411007   \n",
       "Ash                            0.443367   0.286587       0.128980   0.115077   \n",
       "Alcalinity_of_Ash              1.000000  -0.083333      -0.321113  -0.351370   \n",
       "Magnesium                     -0.083333   1.000000       0.214401   0.195784   \n",
       "Total_phenols                 -0.321113   0.214401       1.000000   0.864564   \n",
       "Falvanoid                     -0.351370   0.195784       0.864564   1.000000   \n",
       "Nonflavanoid_phenols           0.361922  -0.256294      -0.449935  -0.537900   \n",
       "Proanthocyanins               -0.197327   0.236441       0.612413   0.652692   \n",
       "Color_intensity                0.018732   0.199950      -0.055136  -0.172379   \n",
       "Hue                           -0.273955   0.055398       0.433681   0.543479   \n",
       "OD280                         -0.276769   0.066004       0.699949   0.787194   \n",
       "Proline                       -0.440597   0.393351       0.498115   0.494193   \n",
       "\n",
       "                      Nonflavanoid_phenols  Proanthocyanins  Color_intensity  \\\n",
       "Cultivator                        0.489109        -0.499130         0.265668   \n",
       "Alcohol                          -0.155929         0.136698         0.546364   \n",
       "Malic_Acid                        0.292977        -0.220746         0.248985   \n",
       "Ash                               0.186230         0.009652         0.258887   \n",
       "Alcalinity_of_Ash                 0.361922        -0.197327         0.018732   \n",
       "Magnesium                        -0.256294         0.236441         0.199950   \n",
       "Total_phenols                    -0.449935         0.612413        -0.055136   \n",
       "Falvanoid                        -0.537900         0.652692        -0.172379   \n",
       "Nonflavanoid_phenols              1.000000        -0.365845         0.139057   \n",
       "Proanthocyanins                  -0.365845         1.000000        -0.025250   \n",
       "Color_intensity                   0.139057        -0.025250         1.000000   \n",
       "Hue                              -0.262640         0.295544        -0.521813   \n",
       "OD280                            -0.503270         0.519067        -0.428815   \n",
       "Proline                          -0.311385         0.330417         0.316100   \n",
       "\n",
       "                           Hue     OD280   Proline  \n",
       "Cultivator           -0.617369 -0.788230 -0.633717  \n",
       "Alcohol              -0.071747  0.072343  0.643720  \n",
       "Malic_Acid           -0.561296 -0.368710 -0.192011  \n",
       "Ash                  -0.074667  0.003911  0.223626  \n",
       "Alcalinity_of_Ash    -0.273955 -0.276769 -0.440597  \n",
       "Magnesium             0.055398  0.066004  0.393351  \n",
       "Total_phenols         0.433681  0.699949  0.498115  \n",
       "Falvanoid             0.543479  0.787194  0.494193  \n",
       "Nonflavanoid_phenols -0.262640 -0.503270 -0.311385  \n",
       "Proanthocyanins       0.295544  0.519067  0.330417  \n",
       "Color_intensity      -0.521813 -0.428815  0.316100  \n",
       "Hue                   1.000000  0.565468  0.236183  \n",
       "OD280                 0.565468  1.000000  0.312761  \n",
       "Proline               0.236183  0.312761  1.000000  "
      ]
     },
     "execution_count": 8,
     "metadata": {},
     "output_type": "execute_result"
    }
   ],
   "source": [
    "df.corr()"
   ]
  },
  {
   "cell_type": "markdown",
   "metadata": {},
   "source": [
    "From the Correlation Matrix it seems that Ash is the Least correlated Feature with Target (Cultivator).Let's do a statistical test to determine it's significance"
   ]
  },
  {
   "cell_type": "markdown",
   "metadata": {},
   "source": [
    "**Statistical Testing**\n",
    "\n",
    "Since all the Variables are Continuous numerical variables we can do an ANOVA test"
   ]
  },
  {
   "cell_type": "code",
   "execution_count": 9,
   "metadata": {},
   "outputs": [],
   "source": [
    "gb_c = df.groupby('Cultivator')"
   ]
  },
  {
   "cell_type": "code",
   "execution_count": 10,
   "metadata": {},
   "outputs": [],
   "source": [
    "gb_c1 = gb_c.get_group(1)\n",
    "gb_c2 = gb_c.get_group(2)\n",
    "gb_c3 = gb_c.get_group(3)"
   ]
  },
  {
   "cell_type": "code",
   "execution_count": 11,
   "metadata": {},
   "outputs": [],
   "source": [
    "from scipy.stats import f_oneway"
   ]
  },
  {
   "cell_type": "code",
   "execution_count": 12,
   "metadata": {},
   "outputs": [
    {
     "data": {
      "text/plain": [
       "F_onewayResult(statistic=13.312901199991039, pvalue=4.149967974793239e-06)"
      ]
     },
     "execution_count": 12,
     "metadata": {},
     "output_type": "execute_result"
    }
   ],
   "source": [
    "f_oneway(gb_c1['Ash'],gb_c2['Ash'],gb_c3['Ash'])"
   ]
  },
  {
   "cell_type": "markdown",
   "metadata": {},
   "source": [
    "**Tip:** Ash is the Least correlated feature with the Target. If the Least correlated feature is statistically significant that mean remaining features which have higer correlation are also statistically significant."
   ]
  },
  {
   "cell_type": "code",
   "execution_count": 14,
   "metadata": {},
   "outputs": [
    {
     "name": "stdout",
     "output_type": "stream",
     "text": [
      "Cultivator 0.0\n",
      "Alcohol 3.319503795619655e-36\n",
      "Malic_Acid 4.127228798041834e-14\n",
      "Ash 4.149967974793239e-06\n",
      "Alcalinity_of_Ash 9.444472938826817e-14\n",
      "Magnesium 8.963395439251042e-06\n",
      "Total_phenols 2.1376700154385954e-28\n",
      "Falvanoid 3.5985858307136404e-50\n",
      "Nonflavanoid_phenols 3.88804090047893e-11\n",
      "Proanthocyanins 5.125358737546706e-12\n",
      "Color_intensity 1.162008021927618e-33\n",
      "Hue 5.9176622163620664e-30\n",
      "OD280 1.393104956942896e-44\n",
      "Proline 5.783168356105498e-47\n"
     ]
    }
   ],
   "source": [
    "# So let's Run a For loop to check all the variables\n",
    "\n",
    "for col in df.columns:\n",
    "    p_value = f_oneway(gb_c1[col],gb_c2[col],gb_c3[col])[1]\n",
    "    print(col,p_value)"
   ]
  },
  {
   "cell_type": "markdown",
   "metadata": {},
   "source": [
    "All the Features are statistically significant"
   ]
  },
  {
   "cell_type": "markdown",
   "metadata": {},
   "source": [
    "# **Model Building**\n",
    "\n",
    "1. Define X,Y\n",
    "2. Scale the Data\n",
    "3. Build the Model\n",
    "4. Interpret the Results"
   ]
  },
  {
   "cell_type": "code",
   "execution_count": 15,
   "metadata": {},
   "outputs": [],
   "source": [
    "from sklearn.preprocessing import StandardScaler"
   ]
  },
  {
   "cell_type": "code",
   "execution_count": 17,
   "metadata": {},
   "outputs": [],
   "source": [
    "X = df.drop('Cultivator', axis = 1)\n",
    "Y = df['Cultivator']"
   ]
  },
  {
   "cell_type": "code",
   "execution_count": 18,
   "metadata": {},
   "outputs": [],
   "source": [
    "sc = StandardScaler()\n",
    "X_std = sc.fit_transform(X)"
   ]
  },
  {
   "cell_type": "code",
   "execution_count": 19,
   "metadata": {},
   "outputs": [],
   "source": [
    "from sklearn.linear_model import LogisticRegression\n",
    "from sklearn.neighbors import KNeighborsClassifier"
   ]
  },
  {
   "cell_type": "code",
   "execution_count": 20,
   "metadata": {},
   "outputs": [],
   "source": [
    "LR = LogisticRegression()\n",
    "NB = GaussianNB()"
   ]
  },
  {
   "cell_type": "code",
   "execution_count": 21,
   "metadata": {},
   "outputs": [],
   "source": [
    "models = []\n",
    "models.append(('Logistic_Regression',LR))\n",
    "models.append(('Navie_Bayes Classification',NB))"
   ]
  },
  {
   "cell_type": "code",
   "execution_count": 22,
   "metadata": {},
   "outputs": [
    {
     "name": "stdout",
     "output_type": "stream",
     "text": [
      "Logistic_Regression: 0.965819 (0.003505)\n",
      "Navie_Bayes Classification: 0.949093 (0.000000)\n"
     ]
    },
    {
     "data": {
      "image/png": "[encoded data removed]",
      "text/plain": [
       "<Figure size 432x288 with 1 Axes>"
      ]
     },
     "metadata": {
      "needs_background": "light"
     },
     "output_type": "display_data"
    }
   ],
   "source": [
    "# Evaluate each Model in turn\n",
    "\n",
    "results = []\n",
    "names = []\n",
    "\n",
    "for name , model in models:\n",
    "    kfold = model_selection.KFold(n_splits = 3,shuffle = True,random_state = 0 )\n",
    "    cv_results = model_selection.cross_val_score(model,X_std,Y,cv = kfold, scoring = 'f1_weighted') # Changed the scoring from roc_auc to f1_weighted\n",
    "    results.append(cv_results)\n",
    "    names.append(name)\n",
    "    print('%s: %f (%f)' % (name, np.mean(cv_results), np.var(cv_results, ddof = 1)))\n",
    "    \n",
    "    \n",
    "# Boxplot Algorithm comparision\n",
    "\n",
    "fig = plt.figure()\n",
    "plt.suptitle(\"Algorithm Comparision\")\n",
    "ax = fig.add_subplot(111)\n",
    "plt.boxplot(results)\n",
    "ax.set_xticklabels(name)\n",
    "plt.show()    \n",
    "    "
   ]
  },
  {
   "cell_type": "markdown",
   "metadata": {},
   "source": [
    "For the Two models we have ,we did 3-fold cv(because we have lessthan 200 records) and got the following results:\n",
    "    \n",
    "Logistic_Regression: Least Bias error by getting higher f1_weighted score but high variance error(0.0035) compared to Navie bias variance error(0.0000)\n",
    "    \n",
    "Naive_Bayes: High Bias error but Least variance error    "
   ]
  },
  {
   "cell_type": "code",
   "execution_count": null,
   "metadata": {},
   "outputs": [],
   "source": []
  },
  {
   "cell_type": "markdown",
   "metadata": {},
   "source": [
    "**Run Additional Models**"
   ]
  },
  {
   "cell_type": "markdown",
   "metadata": {},
   "source": [
    "*KNN\n",
    "\n",
    "*DecitionTree Classifier\n",
    "\n",
    "   * GridSearchCV to find best Parameters "
   ]
  },
  {
   "cell_type": "code",
   "execution_count": 23,
   "metadata": {},
   "outputs": [],
   "source": [
    "from sklearn.model_selection import GridSearchCV\n",
    "from sklearn.neighbors import KNeighborsClassifier\n",
    "from sklearn.tree import DecisionTreeClassifier\n",
    "from sklearn.ensemble import RandomForestClassifier, BaggingClassifier, AdaBoostClassifier, GradientBoostingClassifier, VotingClassifier"
   ]
  },
  {
   "cell_type": "code",
   "execution_count": 24,
   "metadata": {},
   "outputs": [],
   "source": [
    "X = df.drop('Cultivator', axis = 1)\n",
    "Y = df['Cultivator']"
   ]
  },
  {
   "cell_type": "code",
   "execution_count": 25,
   "metadata": {},
   "outputs": [],
   "source": [
    "sc = StandardScaler()\n",
    "X_std = sc.fit_transform(X)  "
   ]
  },
  {
   "cell_type": "code",
   "execution_count": null,
   "metadata": {},
   "outputs": [],
   "source": []
  },
  {
   "cell_type": "markdown",
   "metadata": {},
   "source": [
    "Finding the Best Parameters for KNN:\n",
    "   \n",
    "To find the Optimal HyperParameter for KNN model we need to do a GridSearchCV:\n",
    "    \n",
    "   * n_neighbors: Rule of thumb less than 20% of data,if that exceeds that there is chance of underfitting\n",
    "        \n",
    "   * Weights: we want to know if uniform or distance is the best metric\n",
    "        \n",
    "   * we are doing 3-fold cv\n",
    "    \n",
    "for each combination of n_neighbor it will do 2 model: uniform and distance for 49 times so it is running about 100 models.   \n"
   ]
  },
  {
   "cell_type": "code",
   "execution_count": 26,
   "metadata": {},
   "outputs": [
    {
     "data": {
      "text/plain": [
       "GridSearchCV(cv=3, error_score=nan,\n",
       "             estimator=KNeighborsClassifier(algorithm='auto', leaf_size=30,\n",
       "                                            metric='minkowski',\n",
       "                                            metric_params=None, n_jobs=None,\n",
       "                                            n_neighbors=5, p=2,\n",
       "                                            weights='uniform'),\n",
       "             iid='deprecated', n_jobs=None,\n",
       "             param_grid={'n_neighbors': array([ 1,  2,  3,  4,  5,  6,  7,  8,  9, 10, 11, 12, 13, 14, 15, 16, 17,\n",
       "       18, 19, 20, 21, 22, 23, 24, 25, 26, 27, 28, 29, 30, 31, 32, 33, 34,\n",
       "       35, 36, 37, 38, 39, 40, 41, 42, 43, 44, 45, 46, 47, 48, 49]),\n",
       "                         'weights': ['uniform', 'distance']},\n",
       "             pre_dispatch='2*n_jobs', refit=True, return_train_score=False,\n",
       "             scoring='f1_weighted', verbose=0)"
      ]
     },
     "execution_count": 26,
     "metadata": {},
     "output_type": "execute_result"
    }
   ],
   "source": [
    "knn = KNeighborsClassifier()\n",
    "params = {'n_neighbors':np.arange(1,50),'weights':['uniform','distance']}\n",
    "Gs = GridSearchCV(estimator = knn,param_grid = params,cv = 3, scoring = 'f1_weighted')\n",
    "Gs.fit(X_std,Y)"
   ]
  },
  {
   "cell_type": "code",
   "execution_count": 28,
   "metadata": {},
   "outputs": [
    {
     "data": {
      "text/plain": [
       "{'n_neighbors': 25, 'weights': 'uniform'}"
      ]
     },
     "execution_count": 28,
     "metadata": {},
     "output_type": "execute_result"
    }
   ],
   "source": [
    "Gs.best_params_  # GridASearchCV suggests the best n_neighbors is 25 weights as uniform (which also happens to be the default)"
   ]
  },
  {
   "cell_type": "code",
   "execution_count": 29,
   "metadata": {},
   "outputs": [],
   "source": [
    "LR = LogisticRegression()\n",
    "NB = GaussianNB()\n",
    "KNN = KNeighborsClassifier(n_neighbors=25,weights='uniform')"
   ]
  },
  {
   "cell_type": "code",
   "execution_count": 30,
   "metadata": {},
   "outputs": [],
   "source": [
    "models = []\n",
    "models.append(('Logistic_Regression',LR))\n",
    "models.append(('Naive_Bayes',NB))\n",
    "models.append(('KNeighbors_Classifier',KNN))"
   ]
  },
  {
   "cell_type": "code",
   "execution_count": 33,
   "metadata": {},
   "outputs": [
    {
     "name": "stdout",
     "output_type": "stream",
     "text": [
      "Logistic_Regression: 0.965819 (0.003505)\n",
      "Naive_Bayes: 0.949093 (0.000000)\n",
      "KNeighbors_Classifier: 0.960382 (0.001862)\n"
     ]
    },
    {
     "data": {
      "image/png": "[encoded data removed]",
      "text/plain": [
       "<Figure size 432x288 with 1 Axes>"
      ]
     },
     "metadata": {
      "needs_background": "light"
     },
     "output_type": "display_data"
    }
   ],
   "source": [
    "# Evaluate each model in turn\n",
    "\n",
    "results = []\n",
    "names = []\n",
    "for name , model in models:\n",
    "    kfold = model_selection.KFold(shuffle = True,n_splits = 3,random_state = 0)\n",
    "    cv_results = model_selection.cross_val_score(model, X_std, Y, cv = kfold, scoring = 'f1_weighted') # changed the scoring from roc_auc to f1_weighted\n",
    "    results.append(cv_results)\n",
    "    names.append(name)\n",
    "    print('%s: %f (%f)' % (name,np.mean(cv_results),np.var(cv_results , ddof = 1)))\n",
    "    \n",
    "# Boxplot Algorithm Comparision\n",
    "\n",
    "fig = plt.figure()\n",
    "fig.suptitle('Algorithm Comparision')\n",
    "ax = fig.add_subplot(111)\n",
    "plt.boxplot(results)\n",
    "ax.set_xticklabels(name)\n",
    "plt.show()"
   ]
  },
  {
   "cell_type": "markdown",
   "metadata": {},
   "source": [
    "Interpetation: Knn results are similar to Logistic Regression.Logistic Regression still has least bias error and NB still has least variance error\n",
    "    "
   ]
  },
  {
   "cell_type": "code",
   "execution_count": null,
   "metadata": {},
   "outputs": [],
   "source": []
  },
  {
   "cell_type": "code",
   "execution_count": 34,
   "metadata": {},
   "outputs": [
    {
     "data": {
      "text/plain": [
       "GridSearchCV(cv=3, error_score=nan,\n",
       "             estimator=DecisionTreeClassifier(ccp_alpha=0.0, class_weight=None,\n",
       "                                              criterion='gini', max_depth=None,\n",
       "                                              max_features=None,\n",
       "                                              max_leaf_nodes=None,\n",
       "                                              min_impurity_decrease=0.0,\n",
       "                                              min_impurity_split=None,\n",
       "                                              min_samples_leaf=1,\n",
       "                                              min_samples_split=2,\n",
       "                                              min_weight_fraction_leaf=0.0,\n",
       "                                              presort='deprecated',\n",
       "                                              random_state=0, splitter='best'),\n",
       "             iid='deprecated', n_jobs=None,\n",
       "             param_grid={'criterion': ['gini', 'entropy']},\n",
       "             pre_dispatch='2*n_jobs', refit=True, return_train_score=False,\n",
       "             scoring='f1_weighted', verbose=0)"
      ]
     },
     "execution_count": 34,
     "metadata": {},
     "output_type": "execute_result"
    }
   ],
   "source": [
    "# Decision Tree Classifier\n",
    "\n",
    "DT = DecisionTreeClassifier(random_state=0)\n",
    "params = {'criterion':['gini','entropy']}\n",
    "Gs = GridSearchCV(estimator = DT,param_grid = params,cv = 3, scoring = 'f1_weighted')\n",
    "Gs.fit(X_std,Y)"
   ]
  },
  {
   "cell_type": "code",
   "execution_count": 36,
   "metadata": {},
   "outputs": [
    {
     "data": {
      "text/plain": [
       "{'criterion': 'entropy'}"
      ]
     },
     "execution_count": 36,
     "metadata": {},
     "output_type": "execute_result"
    }
   ],
   "source": [
    "Gs.best_params_   # Decision Tree Default is gini, but Gs is suggested for this data is entropy"
   ]
  },
  {
   "cell_type": "code",
   "execution_count": 37,
   "metadata": {},
   "outputs": [],
   "source": [
    "LR = LogisticRegression()\n",
    "NB = GaussianNB()\n",
    "KNN = KNeighborsClassifier(n_neighbors=25,weights='uniform')\n",
    "DT = DecisionTreeClassifier(criterion='entropy',random_state=0)"
   ]
  },
  {
   "cell_type": "code",
   "execution_count": 38,
   "metadata": {},
   "outputs": [],
   "source": [
    "models = []\n",
    "models.append(('Logistic', LR))\n",
    "models.append(('NaiveBayes', NB))\n",
    "models.append(('KNN',KNN))\n",
    "models.append(('DecisionTree_Classifier',DT))"
   ]
  },
  {
   "cell_type": "code",
   "execution_count": 39,
   "metadata": {},
   "outputs": [
    {
     "name": "stdout",
     "output_type": "stream",
     "text": [
      "Logistic: 0.965819 (0.003505)\n",
      "NaiveBayes: 0.949093 (0.000000)\n",
      "KNN: 0.960382 (0.001862)\n",
      "DecisionTree_Classifier: 0.949320 (0.000303)\n"
     ]
    },
    {
     "data": {
      "image/png": "[encoded data removed]",
      "text/plain": [
       "<Figure size 432x288 with 1 Axes>"
      ]
     },
     "metadata": {
      "needs_background": "light"
     },
     "output_type": "display_data"
    }
   ],
   "source": [
    "# Evaluate each model in turn\n",
    "\n",
    "results = []\n",
    "names = []\n",
    "for name, model in models:\n",
    "  kfold = model_selection.KFold(shuffle = True, n_splits = 3, random_state = 0)\n",
    "  cv_results = model_selection.cross_val_score(model, X_std, Y, cv = kfold, scoring = 'f1_weighted') #changed the scoring from roc_auc to f1_weighted\n",
    "  results.append(cv_results)\n",
    "  names.append(name)\n",
    "  print('%s: %f (%f)' % (name, np.mean(cv_results), np.var(cv_results, ddof = 1)))\n",
    "\n",
    "  # Boxplot Algorithm Comparision\n",
    "\n",
    "fig = plt.figure()\n",
    "fig.suptitle('Algorithm Comparision')\n",
    "ax = fig.add_subplot(111)\n",
    "plt.boxplot(results)\n",
    "ax.set_xticklabels(name)\n",
    "plt.show() "
   ]
  },
  {
   "cell_type": "markdown",
   "metadata": {},
   "source": [
    "Interpretation:\n",
    "    \n",
    "Logistic Regression has highest variance error\n",
    "\n",
    "Logistce Regression has least bias error\n",
    "\n",
    "Naive_Bayes has least variance error\n",
    "\n",
    "Naive_Bayes has highest Bias error"
   ]
  },
  {
   "cell_type": "markdown",
   "metadata": {},
   "source": [
    "**Random Forest:**\n",
    "\n",
    "Don't use GridSearchCV (GS) to find the best n_estimators for Random Forest because GS best params based on mean value and not VARIENCE\n",
    "Meaning GS takes bias error into account and not variance error.\n",
    "\n",
    "GridSearchCV works great for Boosting models as we want lower bias error,so in order to combat this we need to run a loop"
   ]
  },
  {
   "cell_type": "code",
   "execution_count": 40,
   "metadata": {},
   "outputs": [
    {
     "name": "stdout",
     "output_type": "stream",
     "text": [
      "1 0.005379526662081703\n",
      "2 0.0013721746986779559\n",
      "3 0.0026565378431342252\n",
      "4 0.005871618285031495\n",
      "5 0.0013391334282265247\n",
      "6 0.0011550816752257714\n",
      "7 0.0012493457357640385\n",
      "8 0.0011778937928185532\n",
      "9 0.0006760597667154994\n",
      "10 0.0011592374993573832\n",
      "11 0.00010024283744237144\n",
      "12 0.0006737885730662922\n",
      "13 9.96116045003862e-05\n",
      "14 0.000290148257553848\n",
      "15 0.0006737885730662922\n",
      "16 0.0011592374993573832\n",
      "17 0.0011592374993573832\n",
      "18 0.0011592374993573832\n",
      "19 0.0011592374993573832\n",
      "20 0.0011592374993573832\n",
      "21 0.0011592374993573832\n",
      "22 0.0011592374993573832\n",
      "23 0.0011592374993573832\n",
      "24 0.0011592374993573832\n",
      "25 0.0011592374993573832\n",
      "26 0.0011592374993573832\n",
      "27 0.0011592374993573832\n",
      "28 0.0011592374993573832\n",
      "29 0.0011592374993573832\n",
      "30 0.0011592374993573832\n",
      "31 0.0018339487715807175\n",
      "32 0.0011592374993573832\n",
      "33 0.0011592374993573832\n",
      "34 0.0011592374993573832\n",
      "35 0.0011592374993573832\n",
      "36 0.0011592374993573832\n",
      "37 0.0011592374993573832\n",
      "38 0.0011592374993573832\n",
      "39 0.0006747729915345036\n",
      "40 0.0011592374993573832\n",
      "41 0.0011592374993573832\n",
      "42 0.0012607325783546707\n",
      "43 0.0011592374993573832\n",
      "44 0.0012607325783546707\n",
      "45 0.0011592374993573832\n",
      "46 0.0006797072793509841\n",
      "47 0.0011592374993573832\n",
      "48 0.0006747729915345036\n",
      "49 0.0006747729915345036\n"
     ]
    }
   ],
   "source": [
    "RF_Var = []\n",
    "\n",
    "for val in np.arange(1,50):\n",
    "    RF = RandomForestClassifier(criterion = 'entropy',n_estimators = val , random_state = 0)\n",
    "    kfold = model_selection.KFold(shuffle = True, n_splits = 3, random_state = 0)\n",
    "    cv_results = model_selection.cross_val_score(RF,X_std,Y,cv = kfold,scoring = 'f1_weighted')\n",
    "    RF_Var.append(np.var(cv_results,ddof = 1))\n",
    "    print(val,np.var(cv_results,ddof = 1))"
   ]
  },
  {
   "cell_type": "markdown",
   "metadata": {},
   "source": [
    "Least Variance error occurs when n_estimators = 11"
   ]
  },
  {
   "cell_type": "code",
   "execution_count": 43,
   "metadata": {},
   "outputs": [
    {
     "data": {
      "image/png": "[encoded data removed]",
      "text/plain": [
       "<Figure size 1080x576 with 1 Axes>"
      ]
     },
     "metadata": {
      "needs_background": "light"
     },
     "output_type": "display_data"
    }
   ],
   "source": [
    "plt.figure(figsize = (15,8))\n",
    "x_axis = np.arange(1,50)\n",
    "plt.plot(x_axis,RF_Var)\n",
    "plt.xlabel('n_estimators')\n",
    "plt.ylabel('Variance Error')\n",
    "plt.show()"
   ]
  },
  {
   "cell_type": "markdown",
   "metadata": {},
   "source": [
    "The Least Variance Error occurs at global minima. in this graph we have Variance error on Y-axis and n_estimators on X-axis.The Graph Fluctuation alot we can see how the variance error is varying based on n_estimators.when n_estimator is 11 the global minima is occuring. this would be the best param to get the least variance error\n",
    "\n",
    "Similar to the loop GridsearchCV will work when you want to reduce bias error,How ever you can apply the same loop:\n",
    "    replace np.var with np.mean and get the best results."
   ]
  },
  {
   "cell_type": "code",
   "execution_count": 44,
   "metadata": {},
   "outputs": [],
   "source": [
    "#GridSeach for best params to reduce BIAS ERROR for Random Forest\n",
    "\n",
    "# RF = RandomForestClassifier(random_state = 0)\n",
    "# param = {'criterion': ['entropy','gini'], 'n_estimators' : np.arange(1,50)}\n",
    "# GS = GridSearchCV(estimator = RF, param_grid = param, cv = 3, scoring = 'f1_weighted')\n",
    "# GS.fit(X_std,Y)"
   ]
  },
  {
   "cell_type": "code",
   "execution_count": 45,
   "metadata": {},
   "outputs": [],
   "source": [
    "#GS.best_params_"
   ]
  },
  {
   "cell_type": "code",
   "execution_count": 46,
   "metadata": {},
   "outputs": [],
   "source": [
    "# This loop also gives the same results as Gridsearch CV just make sure the criterion is same as the one found in GridSearch\n",
    "\n",
    "# RF_mean = []\n",
    "# for val in np.arange(1,50):\n",
    "#   RF = RandomForestClassifier(criterion = 'gini', n_estimators= val, random_state = 0)\n",
    "#   kfold = model_selection.KFold(shuffle = True, n_splits = 3, random_state = 0)\n",
    "#   cv_results = model_selection.cross_val_score(RF, X_std, Y, cv = kfold, scoring = 'f1_weighted')\n",
    "#   RF_mean.append(np.mean(cv_results))\n",
    "#   print(val, np.mean(cv_results))\n",
    "  "
   ]
  },
  {
   "cell_type": "code",
   "execution_count": 47,
   "metadata": {},
   "outputs": [],
   "source": [
    "LR = LogisticRegression()\n",
    "NB = GaussianNB()\n",
    "KNN = KNeighborsClassifier(n_neighbors = 25, weights = 'uniform')\n",
    "DT = DecisionTreeClassifier(criterion= 'entropy', random_state= 0)\n",
    "RF = RandomForestClassifier(criterion = 'entropy', n_estimators= 11, random_state= 0)"
   ]
  },
  {
   "cell_type": "code",
   "execution_count": 48,
   "metadata": {},
   "outputs": [],
   "source": [
    "models = []\n",
    "models.append(('Logistic', LR))\n",
    "models.append(('NaiveBayes', NB))\n",
    "models.append(('KNN',KNN))\n",
    "models.append(('DecisionTree', DT))\n",
    "models.append(('Random Forest', RF))"
   ]
  },
  {
   "cell_type": "code",
   "execution_count": 49,
   "metadata": {},
   "outputs": [
    {
     "name": "stdout",
     "output_type": "stream",
     "text": [
      "Logistic: 0.965819 (0.003505)\n",
      "NaiveBayes: 0.949093 (0.000000)\n",
      "KNN: 0.960382 (0.001862)\n",
      "DecisionTree: 0.949320 (0.000303)\n",
      "Random Forest: 0.960487 (0.000100)\n"
     ]
    },
    {
     "data": {
      "image/png": "[encoded data removed]",
      "text/plain": [
       "<Figure size 432x288 with 1 Axes>"
      ]
     },
     "metadata": {
      "needs_background": "light"
     },
     "output_type": "display_data"
    }
   ],
   "source": [
    "# Evaluate each model in turn\n",
    "\n",
    "results = []\n",
    "names = []\n",
    "for name, model in models:\n",
    "  kfold = model_selection.KFold(shuffle = True, n_splits = 3, random_state = 0)\n",
    "  cv_results = model_selection.cross_val_score(model, X_std, Y, cv = kfold, scoring = 'f1_weighted') #changed the scoring from roc_auc to f1_weighted\n",
    "  results.append(cv_results)\n",
    "  names.append(name)\n",
    "  print('%s: %f (%f)' % (name, np.mean(cv_results), np.var(cv_results, ddof = 1)))\n",
    "\n",
    "  # Boxplot Algorithm Comparision\n",
    "\n",
    "fig = plt.figure()\n",
    "fig.suptitle('Algorithm Comparision')\n",
    "ax = fig.add_subplot(111)\n",
    "plt.boxplot(results)\n",
    "ax.set_xticklabels(name)\n",
    "plt.show() "
   ]
  },
  {
   "cell_type": "code",
   "execution_count": null,
   "metadata": {},
   "outputs": [],
   "source": []
  },
  {
   "cell_type": "code",
   "execution_count": null,
   "metadata": {},
   "outputs": [],
   "source": []
  },
  {
   "cell_type": "markdown",
   "metadata": {},
   "source": [
    "**Ensemble Models**\n",
    "\n",
    "* Bagging Classifiers\n",
    "    \n",
    "    * we are leaving the default Bagged model decision tree as base estimator"
   ]
  },
  {
   "cell_type": "code",
   "execution_count": 51,
   "metadata": {},
   "outputs": [
    {
     "name": "stdout",
     "output_type": "stream",
     "text": [
      "1 0.00042106974991778433\n",
      "2 0.0006313611414897278\n",
      "3 0.0007519948081686248\n",
      "4 0.0007243035862334064\n",
      "5 0.001394459033752932\n",
      "6 0.0013012927387776208\n",
      "7 0.0016568802015095858\n",
      "8 0.0018922702063866046\n",
      "9 0.0021095461499258247\n",
      "10 0.0030840509314643627\n",
      "11 0.0020920630595904883\n",
      "12 0.002473046423121441\n",
      "13 0.0012840460275786426\n",
      "14 0.0015775546649408208\n",
      "15 0.0009003107042066033\n",
      "16 0.0008804186918734265\n",
      "17 0.0009003107042066033\n",
      "18 0.00029320294336864335\n",
      "19 0.0004025221102338692\n",
      "20 0.00029014710974385396\n",
      "21 0.0006914707455461044\n",
      "22 0.0006914707455461044\n",
      "23 0.0002994262221661131\n",
      "24 0.0002994262221661131\n",
      "25 0.0002994262221661131\n",
      "26 9.498847867549032e-05\n",
      "27 9.498847867549032e-05\n",
      "28 9.498847867549032e-05\n",
      "29 9.498847867549032e-05\n",
      "30 0.00029014710974385396\n",
      "31 9.498847867549032e-05\n",
      "32 9.498847867549032e-05\n",
      "33 9.498847867549032e-05\n",
      "34 9.70377854129041e-05\n",
      "35 9.70377854129041e-05\n",
      "36 0.00029014710974385396\n",
      "37 0.00029014710974385396\n",
      "38 0.00029014710974385396\n",
      "39 0.00029014710974385396\n",
      "40 0.00029014710974385396\n",
      "41 0.0006914707455461044\n",
      "42 0.00029014710974385396\n",
      "43 0.00029014710974385396\n",
      "44 0.00029014710974385396\n",
      "45 9.881774141581805e-05\n",
      "46 9.881774141581805e-05\n",
      "47 9.881774141581805e-05\n",
      "48 9.881774141581805e-05\n",
      "49 9.881774141581805e-05\n"
     ]
    }
   ],
   "source": [
    "Bag_var = []\n",
    "for val in np.arange(1,50): #If you go beyond 50, VE gets higher and flattens\n",
    "  Bag = BaggingClassifier(n_estimators= val, random_state = 0)\n",
    "  kfold = model_selection.KFold(shuffle = True, n_splits = 3, random_state = 0)\n",
    "  cv_results = model_selection.cross_val_score(Bag, X_std, Y, cv = kfold, scoring = 'f1_weighted')\n",
    "  Bag_var.append(np.var(cv_results, ddof = 1))\n",
    "  print(val, np.var(cv_results,ddof=1))\n",
    "  "
   ]
  },
  {
   "cell_type": "code",
   "execution_count": 53,
   "metadata": {},
   "outputs": [
    {
     "data": {
      "image/png": "[encoded data removed]",
      "text/plain": [
       "<Figure size 1080x576 with 1 Axes>"
      ]
     },
     "metadata": {
      "needs_background": "light"
     },
     "output_type": "display_data"
    }
   ],
   "source": [
    "plt.figure(figsize = (15,8))\n",
    "x_axis = np.arange(1,50)\n",
    "plt.plot(x_axis, Bag_var)\n",
    "plt.xlabel('n_estimator')\n",
    "plt.ylabel('Variance Error')\n",
    "plt.show()"
   ]
  },
  {
   "cell_type": "code",
   "execution_count": 54,
   "metadata": {},
   "outputs": [
    {
     "data": {
      "text/plain": [
       "9.498847867549032e-05"
      ]
     },
     "execution_count": 54,
     "metadata": {},
     "output_type": "execute_result"
    }
   ],
   "source": [
    "min(Bag_var)"
   ]
  },
  {
   "cell_type": "markdown",
   "metadata": {},
   "source": [
    "we determined that the n_estimator 26 where global minima occurs for variance error and we will go based on that"
   ]
  },
  {
   "cell_type": "code",
   "execution_count": 55,
   "metadata": {},
   "outputs": [],
   "source": [
    "LR = LogisticRegression()\n",
    "NB = GaussianNB()\n",
    "KNN = KNeighborsClassifier(n_neighbors = 25, weights = 'uniform')\n",
    "DT = DecisionTreeClassifier(criterion= 'entropy', random_state= 0)\n",
    "RF = RandomForestClassifier(criterion = 'entropy', n_estimators= 11, random_state= 0)\n",
    "Bag = BaggingClassifier(n_estimators= 26, random_state= 0)"
   ]
  },
  {
   "cell_type": "code",
   "execution_count": 56,
   "metadata": {},
   "outputs": [],
   "source": [
    "models = []\n",
    "models.append(('Logistic', LR))\n",
    "models.append(('NaiveBayes', NB))\n",
    "models.append(('KNN',KNN))\n",
    "models.append(('DecisionTree', DT))\n",
    "models.append(('Random Forest', RF))\n",
    "models.append(('BaggingClassifer', Bag))"
   ]
  },
  {
   "cell_type": "code",
   "execution_count": 57,
   "metadata": {},
   "outputs": [
    {
     "name": "stdout",
     "output_type": "stream",
     "text": [
      "Logistic: 0.965819 (0.003505)\n",
      "NaiveBayes: 0.949093 (0.000000)\n",
      "KNN: 0.960382 (0.001862)\n",
      "DecisionTree: 0.949320 (0.000303)\n",
      "Random Forest: 0.960487 (0.000100)\n",
      "BaggingClassifer: 0.955157 (0.000095)\n"
     ]
    },
    {
     "data": {
      "image/png": "[encoded data removed]",
      "text/plain": [
       "<Figure size 432x288 with 1 Axes>"
      ]
     },
     "metadata": {
      "needs_background": "light"
     },
     "output_type": "display_data"
    }
   ],
   "source": [
    "# Evaluate each model in turn\n",
    "\n",
    "results = []\n",
    "names = []\n",
    "for name, model in models:\n",
    "  kfold = model_selection.KFold(shuffle = True, n_splits = 3, random_state = 0)\n",
    "  cv_results = model_selection.cross_val_score(model, X_std, Y, cv = kfold, scoring = 'f1_weighted') #changed the scoring from roc_auc to f1_weighted\n",
    "  results.append(cv_results)\n",
    "  names.append(name)\n",
    "  print('%s: %f (%f)' % (name, np.mean(cv_results), np.var(cv_results, ddof = 1)))\n",
    "\n",
    "  # Boxplot Algorithm Comparision\n",
    "\n",
    "fig = plt.figure()\n",
    "fig.suptitle('Algorithm Comparision')\n",
    "ax = fig.add_subplot(111)\n",
    "plt.boxplot(results)\n",
    "ax.set_xticklabels(name)\n",
    "plt.show() "
   ]
  },
  {
   "cell_type": "markdown",
   "metadata": {},
   "source": [
    "Bagging: (base_estimator: decision_tree) did't really help as LogisticRegression still has the Least Bias Error and Naive_Bayes has least Variance Error"
   ]
  },
  {
   "cell_type": "markdown",
   "metadata": {},
   "source": [
    "# AdaBoost Classifier and XB Boost"
   ]
  },
  {
   "cell_type": "code",
   "execution_count": 58,
   "metadata": {},
   "outputs": [
    {
     "name": "stdout",
     "output_type": "stream",
     "text": [
      "1 0.5545388613402799\n",
      "2 0.7935844073000741\n",
      "3 0.9097690650291456\n",
      "4 0.8563406875980976\n",
      "5 0.8629583051484769\n",
      "6 0.8512075403220932\n",
      "7 0.8693843144972934\n",
      "8 0.9041094499556209\n",
      "9 0.8925814805271594\n",
      "10 0.9098709080506411\n",
      "11 0.8925814805271594\n",
      "12 0.9041094499556209\n",
      "13 0.8868493208172014\n",
      "14 0.9041094499556209\n",
      "15 0.8868493208172014\n",
      "16 0.9041094499556209\n",
      "17 0.8868493208172014\n",
      "18 0.8983772902456627\n",
      "19 0.8868493208172014\n",
      "20 0.8983772902456627\n",
      "21 0.8868493208172014\n",
      "22 0.8983772902456627\n",
      "23 0.8868493208172014\n",
      "24 0.8983772902456627\n",
      "25 0.8868493208172014\n",
      "26 0.8983772902456627\n",
      "27 0.8868493208172014\n",
      "28 0.8983772902456627\n",
      "29 0.8868493208172014\n",
      "30 0.8983772902456627\n",
      "31 0.8868493208172014\n",
      "32 0.8983772902456627\n",
      "33 0.8868493208172014\n",
      "34 0.8983772902456627\n",
      "35 0.8868493208172014\n",
      "36 0.8983772902456627\n",
      "37 0.8868493208172014\n",
      "38 0.8983772902456627\n",
      "39 0.8868493208172014\n",
      "40 0.8983772902456627\n",
      "41 0.8868493208172014\n",
      "42 0.8983772902456627\n",
      "43 0.8868493208172014\n",
      "44 0.8983772902456627\n",
      "45 0.8868493208172014\n",
      "46 0.8983772902456627\n",
      "47 0.8868493208172014\n",
      "48 0.8983772902456627\n",
      "49 0.8868493208172014\n",
      "50 0.8983772902456627\n",
      "51 0.8868493208172014\n",
      "52 0.8983772902456627\n",
      "53 0.8868493208172014\n",
      "54 0.8983772902456627\n",
      "55 0.8868493208172014\n",
      "56 0.8983772902456627\n",
      "57 0.8868493208172014\n",
      "58 0.8983772902456627\n",
      "59 0.8868493208172014\n",
      "60 0.8983772902456627\n",
      "61 0.8868493208172014\n",
      "62 0.8983772902456627\n",
      "63 0.8868493208172014\n",
      "64 0.8983772902456627\n",
      "65 0.8868493208172014\n",
      "66 0.8983772902456627\n",
      "67 0.8868493208172014\n",
      "68 0.8983772902456627\n",
      "69 0.8868493208172014\n",
      "70 0.8983772902456627\n",
      "71 0.8868493208172014\n",
      "72 0.8983772902456627\n",
      "73 0.8868493208172014\n",
      "74 0.8983772902456627\n",
      "75 0.8868493208172014\n",
      "76 0.8983772902456627\n",
      "77 0.8868493208172014\n",
      "78 0.8983772902456627\n",
      "79 0.8868493208172014\n",
      "80 0.8983772902456627\n",
      "81 0.8868493208172014\n",
      "82 0.8983772902456627\n",
      "83 0.8868493208172014\n",
      "84 0.8983772902456627\n",
      "85 0.8868493208172014\n",
      "86 0.8983772902456627\n",
      "87 0.8868493208172014\n",
      "88 0.8983772902456627\n",
      "89 0.8868493208172014\n",
      "90 0.8983772902456627\n",
      "91 0.8868493208172014\n",
      "92 0.8983772902456627\n",
      "93 0.8868493208172014\n",
      "94 0.8983772902456627\n",
      "95 0.8868493208172014\n",
      "96 0.8983772902456627\n",
      "97 0.8868493208172014\n",
      "98 0.8983772902456627\n",
      "99 0.8868493208172014\n"
     ]
    }
   ],
   "source": [
    "Ada_mean = []\n",
    "for val in np.arange(1,100):\n",
    "    AdaB = AdaBoostClassifier(n_estimators = val, random_state = 0)\n",
    "    kfold = model_selection.KFold(shuffle = True, n_splits = 3, random_state = 0)\n",
    "    cv_results = model_selection.cross_val_score(AdaB,X_std,Y,cv = kfold,scoring = 'f1_weighted')\n",
    "    Ada_mean.append(np.mean(cv_results))\n",
    "    print(val,np.mean(cv_results))"
   ]
  },
  {
   "cell_type": "code",
   "execution_count": 59,
   "metadata": {},
   "outputs": [
    {
     "data": {
      "text/plain": [
       "0.9098709080506411"
      ]
     },
     "execution_count": 59,
     "metadata": {},
     "output_type": "execute_result"
    }
   ],
   "source": [
    "max(Ada_mean)"
   ]
  },
  {
   "cell_type": "markdown",
   "metadata": {},
   "source": [
    "**we want the Max because the least Bias Error occurs during highest f1_weighted score**"
   ]
  },
  {
   "cell_type": "code",
   "execution_count": 60,
   "metadata": {},
   "outputs": [
    {
     "data": {
      "image/png": "[encoded data removed]",
      "text/plain": [
       "<Figure size 1080x576 with 1 Axes>"
      ]
     },
     "metadata": {
      "needs_background": "light"
     },
     "output_type": "display_data"
    }
   ],
   "source": [
    "plt.figure(figsize = (15,8))\n",
    "x_axis = np.arange(1,100)\n",
    "plt.plot(x_axis,Ada_mean)\n",
    "plt.xlabel('n_estimators')\n",
    "plt.ylabel('Bias Error')\n",
    "plt.show()"
   ]
  },
  {
   "cell_type": "code",
   "execution_count": 61,
   "metadata": {},
   "outputs": [
    {
     "data": {
      "image/png": "[encoded data removed]",
      "text/plain": [
       "<Figure size 1080x576 with 1 Axes>"
      ]
     },
     "metadata": {
      "needs_background": "light"
     },
     "output_type": "display_data"
    }
   ],
   "source": [
    "plt.figure(figsize = (15,8))\n",
    "x_axis = np.arange(1,16)\n",
    "plt.plot(x_axis,Ada_mean[:15])\n",
    "plt.xlabel('n_estimators')\n",
    "plt.ylabel('Bias Error')\n",
    "plt.show()"
   ]
  },
  {
   "cell_type": "code",
   "execution_count": 62,
   "metadata": {},
   "outputs": [],
   "source": [
    "LR = LogisticRegression()\n",
    "NB = GaussianNB()\n",
    "KNN = KNeighborsClassifier(n_neighbors = 25, weights = 'uniform')\n",
    "DT = DecisionTreeClassifier(criterion= 'entropy', random_state= 0)\n",
    "RF = RandomForestClassifier(criterion = 'entropy', n_estimators= 11, random_state= 0)\n",
    "Bag = BaggingClassifier(n_estimators= 26, random_state= 0)\n",
    "AdaB = AdaBoostClassifier(n_estimators= 10)"
   ]
  },
  {
   "cell_type": "code",
   "execution_count": 63,
   "metadata": {},
   "outputs": [],
   "source": [
    "models = []\n",
    "models.append(('Logistic', LR))\n",
    "models.append(('NaiveBayes', NB))\n",
    "models.append(('KNN',KNN))\n",
    "models.append(('DecisionTree', DT))\n",
    "models.append(('Random Forest', RF))\n",
    "models.append(('BaggingClassifer', Bag))\n",
    "models.append(('AdaBoostClassifier', AdaB))"
   ]
  },
  {
   "cell_type": "code",
   "execution_count": 64,
   "metadata": {},
   "outputs": [
    {
     "name": "stdout",
     "output_type": "stream",
     "text": [
      "Logistic: 0.965819 (0.003505)\n",
      "NaiveBayes: 0.949093 (0.000000)\n",
      "KNN: 0.960382 (0.001862)\n",
      "DecisionTree: 0.949320 (0.000303)\n",
      "Random Forest: 0.960487 (0.000100)\n",
      "BaggingClassifer: 0.955157 (0.000095)\n",
      "AdaBoostClassifier: 0.909871 (0.000425)\n"
     ]
    },
    {
     "data": {
      "image/png": "[encoded data removed]",
      "text/plain": [
       "<Figure size 432x288 with 1 Axes>"
      ]
     },
     "metadata": {
      "needs_background": "light"
     },
     "output_type": "display_data"
    }
   ],
   "source": [
    "# Evaluate each model in turn\n",
    "\n",
    "results = []\n",
    "names = []\n",
    "for name, model in models:\n",
    "  kfold = model_selection.KFold(shuffle = True, n_splits = 3, random_state = 0)\n",
    "  cv_results = model_selection.cross_val_score(model, X_std, Y, cv = kfold, scoring = 'f1_weighted') #changed the scoring from roc_auc to f1_weighted\n",
    "  results.append(cv_results)\n",
    "  names.append(name)\n",
    "  print('%s: %f (%f)' % (name, np.mean(cv_results), np.var(cv_results, ddof = 1)))\n",
    "\n",
    "  # Boxplot Algorithm Comparision\n",
    "\n",
    "fig = plt.figure()\n",
    "fig.suptitle('Algorithm Comparision')\n",
    "ax = fig.add_subplot(111)\n",
    "plt.boxplot(results)\n",
    "ax.set_xticklabels(name)\n",
    "plt.show() "
   ]
  },
  {
   "cell_type": "code",
   "execution_count": null,
   "metadata": {},
   "outputs": [],
   "source": []
  },
  {
   "cell_type": "code",
   "execution_count": 69,
   "metadata": {},
   "outputs": [
    {
     "name": "stdout",
     "output_type": "stream",
     "text": [
      "1 0.9772675517600966\n",
      "2 0.9772675517600966\n",
      "3 0.9772675517600966\n",
      "4 0.9772675517600966\n",
      "5 0.9772675517600966\n",
      "6 0.9772675517600966\n",
      "7 0.9772675517600966\n",
      "8 0.9772675517600966\n",
      "9 0.9772675517600966\n",
      "10 0.9772675517600966\n",
      "11 0.9772675517600966\n",
      "12 0.9772675517600966\n",
      "13 0.9772675517600966\n",
      "14 0.9717206452272015\n",
      "15 0.9717206452272015\n",
      "16 0.9717206452272015\n",
      "17 0.9717206452272015\n",
      "18 0.9717206452272015\n",
      "19 0.9717206452272015\n",
      "20 0.966179445019816\n",
      "21 0.966179445019816\n",
      "22 0.966179445019816\n",
      "23 0.966179445019816\n",
      "24 0.966179445019816\n",
      "25 0.966179445019816\n",
      "26 0.966179445019816\n",
      "27 0.966179445019816\n",
      "28 0.966179445019816\n",
      "29 0.966179445019816\n",
      "30 0.9606267248867114\n",
      "31 0.9606267248867114\n",
      "32 0.9606267248867114\n",
      "33 0.9606267248867114\n",
      "34 0.9606267248867114\n",
      "35 0.9606267248867114\n",
      "36 0.9606267248867114\n",
      "37 0.9606267248867114\n",
      "38 0.9606267248867114\n",
      "39 0.9606267248867114\n",
      "40 0.9606267248867114\n",
      "41 0.9606267248867114\n",
      "42 0.9606267248867114\n",
      "43 0.9606267248867114\n",
      "44 0.9606267248867114\n",
      "45 0.9606267248867114\n",
      "46 0.9606267248867114\n",
      "47 0.9606267248867114\n",
      "48 0.9606267248867114\n",
      "49 0.9606267248867114\n",
      "50 0.9606267248867114\n",
      "51 0.9606267248867114\n",
      "52 0.9606267248867114\n",
      "53 0.9606267248867114\n",
      "54 0.9606267248867114\n",
      "55 0.9606267248867114\n",
      "56 0.9606267248867114\n",
      "57 0.9606267248867114\n",
      "58 0.9606267248867114\n",
      "59 0.9606267248867114\n",
      "60 0.9606267248867114\n",
      "61 0.9606267248867114\n",
      "62 0.9606267248867114\n",
      "63 0.9606267248867114\n",
      "64 0.9606267248867114\n",
      "65 0.9606267248867114\n",
      "66 0.9606267248867114\n",
      "67 0.9606267248867114\n",
      "68 0.9606267248867114\n",
      "69 0.9606267248867114\n",
      "70 0.9606267248867114\n",
      "71 0.9606267248867114\n",
      "72 0.9606267248867114\n",
      "73 0.9606267248867114\n",
      "74 0.9606267248867114\n",
      "75 0.9606267248867114\n",
      "76 0.9606267248867114\n",
      "77 0.9606267248867114\n",
      "78 0.9550453295378744\n",
      "79 0.9550453295378744\n",
      "80 0.9550453295378744\n",
      "81 0.9550453295378744\n",
      "82 0.9550453295378744\n",
      "83 0.9550453295378744\n",
      "84 0.9550453295378744\n",
      "85 0.9550453295378744\n",
      "86 0.9550453295378744\n",
      "87 0.9550453295378744\n",
      "88 0.9550453295378744\n",
      "89 0.9550453295378744\n",
      "90 0.9550453295378744\n",
      "91 0.9550453295378744\n",
      "92 0.9550453295378744\n",
      "93 0.9550453295378744\n",
      "94 0.9550453295378744\n",
      "95 0.9550453295378744\n",
      "96 0.9550453295378744\n",
      "97 0.9550453295378744\n",
      "98 0.9550453295378744\n",
      "99 0.9550453295378744\n"
     ]
    }
   ],
   "source": [
    "# Try the same model with the Logistic Regression as base estimator\n",
    "\n",
    "LR = LogisticRegression()\n",
    "\n",
    "Ada_mean = []  # Boosted LR\n",
    "for val in np.arange(1,100):\n",
    "    Adab = AdaBoostClassifier(base_estimator = LR, n_estimators = val, random_state = 0)\n",
    "    kfold = model_selection.KFold(shuffle = True, n_splits = 3, random_state = 0)\n",
    "    cv_results = model_selection.cross_val_score(Adab,X_std,Y, cv = kfold, scoring = 'f1_weighted')\n",
    "    Ada_mean.append(np.mean(cv_results))\n",
    "    print(val,np.mean(cv_results))"
   ]
  },
  {
   "cell_type": "code",
   "execution_count": 70,
   "metadata": {},
   "outputs": [
    {
     "data": {
      "text/plain": [
       "0.9772675517600966"
      ]
     },
     "execution_count": 70,
     "metadata": {},
     "output_type": "execute_result"
    }
   ],
   "source": [
    "max(Ada_mean)"
   ]
  },
  {
   "cell_type": "code",
   "execution_count": 71,
   "metadata": {},
   "outputs": [
    {
     "data": {
      "image/png": "[encoded data removed]",
      "text/plain": [
       "<Figure size 1080x576 with 1 Axes>"
      ]
     },
     "metadata": {
      "needs_background": "light"
     },
     "output_type": "display_data"
    }
   ],
   "source": [
    "plt.figure(figsize = (15,8))\n",
    "x_axis = np.arange(1,100)\n",
    "plt.plot(x_axis,Ada_mean)\n",
    "plt.xlabel('n_estimator')\n",
    "plt.ylabel('Bias Error')\n",
    "plt.show()"
   ]
  },
  {
   "cell_type": "code",
   "execution_count": 72,
   "metadata": {},
   "outputs": [],
   "source": [
    "LR = LogisticRegression()\n",
    "NB = GaussianNB()\n",
    "KNN = KNeighborsClassifier(n_neighbors = 25, weights = 'uniform')\n",
    "DT = DecisionTreeClassifier(criterion= 'entropy', random_state= 0)\n",
    "RF = RandomForestClassifier(criterion = 'entropy', n_estimators= 11, random_state= 0)\n",
    "Bag = BaggingClassifier(n_estimators= 26, random_state= 0)\n",
    "AdaB = AdaBoostClassifier(n_estimators= 10)\n",
    "AdaB_LR = AdaBoostClassifier(base_estimator = LR, n_estimators= 5, random_state = 0)"
   ]
  },
  {
   "cell_type": "code",
   "execution_count": 73,
   "metadata": {},
   "outputs": [],
   "source": [
    "models = []\n",
    "models.append(('Logistic', LR))\n",
    "models.append(('NaiveBayes', NB))\n",
    "models.append(('KNN',KNN))\n",
    "models.append(('DecisionTree', DT))\n",
    "models.append(('Random Forest', RF))\n",
    "models.append(('BaggingClassifer', Bag))\n",
    "models.append(('AdaBoostClassifier', AdaB))\n",
    "models.append(('AdaBoostLogistic', AdaB_LR))"
   ]
  },
  {
   "cell_type": "code",
   "execution_count": 74,
   "metadata": {},
   "outputs": [
    {
     "name": "stdout",
     "output_type": "stream",
     "text": [
      "Logistic: 0.965819 (0.003505)\n",
      "NaiveBayes: 0.949093 (0.000000)\n",
      "KNN: 0.960382 (0.001862)\n",
      "DecisionTree: 0.949320 (0.000303)\n",
      "Random Forest: 0.960487 (0.000100)\n",
      "BaggingClassifer: 0.955157 (0.000095)\n",
      "AdaBoostClassifier: 0.909871 (0.000425)\n",
      "AdaBoostLogistic: 0.977268 (0.000681)\n"
     ]
    },
    {
     "data": {
      "image/png": "[encoded data removed]",
      "text/plain": [
       "<Figure size 432x288 with 1 Axes>"
      ]
     },
     "metadata": {
      "needs_background": "light"
     },
     "output_type": "display_data"
    }
   ],
   "source": [
    "# Evaluate each model in turn\n",
    "\n",
    "results = []\n",
    "names = []\n",
    "for name, model in models:\n",
    "  kfold = model_selection.KFold(shuffle = True, n_splits = 3, random_state = 0)\n",
    "  cv_results = model_selection.cross_val_score(model, X_std, Y, cv = kfold, scoring = 'f1_weighted') #changed the scoring from roc_auc to f1_weighted\n",
    "  results.append(cv_results)\n",
    "  names.append(name)\n",
    "  print('%s: %f (%f)' % (name, np.mean(cv_results), np.var(cv_results, ddof = 1)))\n",
    "\n",
    "  # Boxplot Algorithm Comparision\n",
    "\n",
    "fig = plt.figure()\n",
    "fig.suptitle('Algorithm Comparision')\n",
    "ax = fig.add_subplot(111)\n",
    "plt.boxplot(results)\n",
    "ax.set_xticklabels(name)\n",
    "plt.show() "
   ]
  },
  {
   "cell_type": "markdown",
   "metadata": {},
   "source": [
    "Boosted Logistic Regression has yielded the best results in terms of Bias Error. Naive Bayes is still has the least Variance Error"
   ]
  },
  {
   "cell_type": "code",
   "execution_count": null,
   "metadata": {},
   "outputs": [],
   "source": []
  },
  {
   "cell_type": "code",
   "execution_count": null,
   "metadata": {},
   "outputs": [],
   "source": []
  },
  {
   "cell_type": "markdown",
   "metadata": {},
   "source": [
    "# Gradient Boost"
   ]
  },
  {
   "cell_type": "code",
   "execution_count": 78,
   "metadata": {},
   "outputs": [
    {
     "name": "stdout",
     "output_type": "stream",
     "text": [
      "1 0.6668993012523824\n",
      "2 0.9328177251309161\n",
      "3 0.9327627497999847\n",
      "4 0.9327627497999847\n",
      "5 0.9327627497999847\n",
      "6 0.9327627497999847\n",
      "7 0.9327627497999847\n",
      "8 0.9327627497999847\n",
      "9 0.9327627497999847\n",
      "10 0.9383427331807123\n",
      "11 0.9383427331807123\n",
      "12 0.9383427331807123\n",
      "13 0.9383427331807123\n",
      "14 0.9439017984845939\n",
      "15 0.9439017984845939\n",
      "16 0.9439017984845939\n",
      "17 0.9439017984845939\n",
      "18 0.9439017984845939\n",
      "19 0.9439017984845939\n",
      "20 0.9439017984845939\n",
      "21 0.9439017984845939\n",
      "22 0.938273639218087\n",
      "23 0.938273639218087\n",
      "24 0.938273639218087\n",
      "25 0.938273639218087\n",
      "26 0.938273639218087\n",
      "27 0.938273639218087\n",
      "28 0.938273639218087\n",
      "29 0.938273639218087\n",
      "30 0.938273639218087\n",
      "31 0.938273639218087\n",
      "32 0.938273639218087\n",
      "33 0.938273639218087\n",
      "34 0.938273639218087\n",
      "35 0.938273639218087\n",
      "36 0.938273639218087\n",
      "37 0.938273639218087\n",
      "38 0.938273639218087\n",
      "39 0.938273639218087\n",
      "40 0.938273639218087\n",
      "41 0.938273639218087\n",
      "42 0.938273639218087\n",
      "43 0.938273639218087\n",
      "44 0.938273639218087\n",
      "45 0.938273639218087\n",
      "46 0.938273639218087\n",
      "47 0.938273639218087\n",
      "48 0.938273639218087\n",
      "49 0.938273639218087\n",
      "50 0.938273639218087\n",
      "51 0.938273639218087\n",
      "52 0.938273639218087\n",
      "53 0.938273639218087\n",
      "54 0.938273639218087\n",
      "55 0.9491690130728697\n",
      "56 0.9491690130728697\n",
      "57 0.9491690130728697\n",
      "58 0.9605410673731027\n",
      "59 0.9605410673731027\n",
      "60 0.9605410673731027\n",
      "61 0.9605410673731027\n",
      "62 0.9605410673731027\n",
      "63 0.9605410673731027\n",
      "64 0.9605410673731027\n",
      "65 0.9605410673731027\n",
      "66 0.9605410673731027\n",
      "67 0.9605410673731027\n",
      "68 0.9605410673731027\n",
      "69 0.9605410673731027\n",
      "70 0.9605410673731027\n",
      "71 0.9605410673731027\n",
      "72 0.9605410673731027\n",
      "73 0.9605410673731027\n",
      "74 0.9605410673731027\n",
      "75 0.9605410673731027\n",
      "76 0.9605410673731027\n",
      "77 0.9605410673731027\n",
      "78 0.9605410673731027\n",
      "79 0.9605410673731027\n",
      "80 0.9605410673731027\n",
      "81 0.9605410673731027\n",
      "82 0.9605410673731027\n",
      "83 0.9605410673731027\n",
      "84 0.9605410673731027\n",
      "85 0.9605410673731027\n",
      "86 0.9605410673731027\n",
      "87 0.9605410673731027\n",
      "88 0.9605410673731027\n",
      "89 0.9605410673731027\n",
      "90 0.9605410673731027\n",
      "91 0.9605410673731027\n",
      "92 0.9605410673731027\n",
      "93 0.9605410673731027\n",
      "94 0.9605410673731027\n",
      "95 0.9605410673731027\n",
      "96 0.9605410673731027\n",
      "97 0.9605410673731027\n",
      "98 0.9605410673731027\n",
      "99 0.9605410673731027\n",
      "100 0.9605410673731027\n",
      "101 0.9605410673731027\n",
      "102 0.9605410673731027\n",
      "103 0.9605410673731027\n",
      "104 0.9605410673731027\n",
      "105 0.9605410673731027\n",
      "106 0.9605410673731027\n",
      "107 0.9605410673731027\n",
      "108 0.9605410673731027\n",
      "109 0.9605410673731027\n",
      "110 0.9605410673731027\n",
      "111 0.9605410673731027\n",
      "112 0.9605410673731027\n",
      "113 0.9605410673731027\n",
      "114 0.9605410673731027\n",
      "115 0.9605410673731027\n",
      "116 0.9605410673731027\n",
      "117 0.9605410673731027\n",
      "118 0.9605410673731027\n",
      "119 0.9605410673731027\n",
      "120 0.9605410673731027\n",
      "121 0.9605410673731027\n",
      "122 0.9605410673731027\n",
      "123 0.9605410673731027\n",
      "124 0.9605410673731027\n",
      "125 0.9605410673731027\n",
      "126 0.9605410673731027\n",
      "127 0.9605410673731027\n",
      "128 0.9605410673731027\n",
      "129 0.9605410673731027\n",
      "130 0.9605410673731027\n",
      "131 0.9605410673731027\n",
      "132 0.9605410673731027\n",
      "133 0.9605410673731027\n",
      "134 0.9605410673731027\n",
      "135 0.9605410673731027\n",
      "136 0.9605410673731027\n",
      "137 0.9605410673731027\n",
      "138 0.9605410673731027\n",
      "139 0.9605410673731027\n",
      "140 0.9605410673731027\n",
      "141 0.9605410673731027\n",
      "142 0.9605410673731027\n",
      "143 0.9605410673731027\n",
      "144 0.9605410673731027\n",
      "145 0.9605410673731027\n",
      "146 0.9605410673731027\n",
      "147 0.9605410673731027\n",
      "148 0.9605410673731027\n",
      "149 0.9605410673731027\n"
     ]
    }
   ],
   "source": [
    "Gb_mean = []\n",
    "for val in np.arange(1,150):\n",
    "    GB = GradientBoostingClassifier(n_estimators = val, random_state = 0)\n",
    "    kfold = model_selection.KFold(shuffle = True, n_splits = 3, random_state = 0)\n",
    "    cv_results = model_selection.cross_val_score(GB, X_std, Y, cv = kfold, scoring = 'f1_weighted')\n",
    "    Gb_mean.append(np.mean(cv_results))\n",
    "    print(val,np.mean(cv_results))"
   ]
  },
  {
   "cell_type": "code",
   "execution_count": 79,
   "metadata": {},
   "outputs": [
    {
     "data": {
      "text/plain": [
       "0.9605410673731027"
      ]
     },
     "execution_count": 79,
     "metadata": {},
     "output_type": "execute_result"
    }
   ],
   "source": [
    "max(Gb_mean)"
   ]
  },
  {
   "cell_type": "code",
   "execution_count": 80,
   "metadata": {},
   "outputs": [],
   "source": [
    "LR = LogisticRegression()\n",
    "NB = GaussianNB()\n",
    "KNN = KNeighborsClassifier(n_neighbors = 25, weights = 'uniform')\n",
    "DT = DecisionTreeClassifier(criterion= 'entropy', random_state= 0)\n",
    "RF = RandomForestClassifier(criterion = 'entropy', n_estimators= 11, random_state= 0)\n",
    "Bag = BaggingClassifier(n_estimators= 26, random_state= 0)\n",
    "AdaB = AdaBoostClassifier(n_estimators= 10)\n",
    "AdaB_LR = AdaBoostClassifier(base_estimator = LR, n_estimators= 6, random_state = 0)\n",
    "GB = GradientBoostingClassifier(n_estimators= 60)"
   ]
  },
  {
   "cell_type": "code",
   "execution_count": 81,
   "metadata": {},
   "outputs": [],
   "source": [
    "models = []\n",
    "models.append(('Logistic', LR))\n",
    "models.append(('NaiveBayes', NB))\n",
    "models.append(('KNN',KNN))\n",
    "models.append(('DecisionTree', DT))\n",
    "models.append(('Random Forest', RF))\n",
    "models.append(('BaggingClassifer', Bag))\n",
    "models.append(('AdaBoostClassifier', AdaB))\n",
    "models.append(('AdaBoostLogistic', AdaB_LR))\n",
    "models.append(('Gradient Boost', GB))"
   ]
  },
  {
   "cell_type": "code",
   "execution_count": 82,
   "metadata": {},
   "outputs": [
    {
     "name": "stdout",
     "output_type": "stream",
     "text": [
      "Logistic: 0.965819 (0.003505)\n",
      "NaiveBayes: 0.949093 (0.000000)\n",
      "KNN: 0.960382 (0.001862)\n",
      "DecisionTree: 0.949320 (0.000303)\n",
      "Random Forest: 0.960487 (0.000100)\n",
      "BaggingClassifer: 0.955157 (0.000095)\n",
      "AdaBoostClassifier: 0.909871 (0.000425)\n",
      "AdaBoostLogistic: 0.977268 (0.000681)\n",
      "Gradient Boost: 0.960541 (0.000098)\n"
     ]
    },
    {
     "data": {
      "image/png": "[encoded data removed]",
      "text/plain": [
       "<Figure size 432x288 with 1 Axes>"
      ]
     },
     "metadata": {
      "needs_background": "light"
     },
     "output_type": "display_data"
    }
   ],
   "source": [
    "# Evaluate each model in turn\n",
    "\n",
    "results = []\n",
    "names = []\n",
    "for name, model in models:\n",
    "  kfold = model_selection.KFold(shuffle = True, n_splits = 3, random_state = 0)\n",
    "  cv_results = model_selection.cross_val_score(model, X_std, Y, cv = kfold, scoring = 'f1_weighted') #changed the scoring from roc_auc to f1_weighted\n",
    "  results.append(cv_results)\n",
    "  names.append(name)\n",
    "  print('%s: %f (%f)' % (name, np.mean(cv_results), np.var(cv_results, ddof = 1)))\n",
    "\n",
    "  # Boxplot Algorithm Comparision\n",
    "\n",
    "fig = plt.figure()\n",
    "fig.suptitle('Algorithm Comparision')\n",
    "ax = fig.add_subplot(111)\n",
    "plt.boxplot(results)\n",
    "ax.set_xticklabels(name)\n",
    "plt.show() "
   ]
  },
  {
   "cell_type": "markdown",
   "metadata": {},
   "source": [
    "Bias (Top 3) = AdaBoost,Logistic,GradientBoost\n",
    "\n",
    "\n",
    "Variance Error (Top 3) = Naive_bayes,Bagging Classifier, Gradient Boost"
   ]
  },
  {
   "cell_type": "markdown",
   "metadata": {},
   "source": [
    "# Stacking"
   ]
  },
  {
   "cell_type": "markdown",
   "metadata": {},
   "source": [
    "**Stacking:** Take the Top 3 or 5 Performers and each Model\n",
    "    \n",
    "   * Soft_Voting = Weighted_Voting\n",
    "    \n",
    "   * Hard_Voting = UnWeighted_Voting"
   ]
  },
  {
   "cell_type": "code",
   "execution_count": 83,
   "metadata": {},
   "outputs": [],
   "source": [
    "from sklearn.ensemble import VotingClassifier"
   ]
  },
  {
   "cell_type": "code",
   "execution_count": 84,
   "metadata": {},
   "outputs": [],
   "source": [
    "# stacked = VotingClassifier(estimators= [('AdaBoostLogistic', AdaB_LR,\n",
    "#                                          'Gradient Boost', GB,\n",
    "#                                          'NaiveBayes', NB)], voting = 'soft')"
   ]
  },
  {
   "cell_type": "code",
   "execution_count": 91,
   "metadata": {},
   "outputs": [],
   "source": [
    "LR = LogisticRegression()\n",
    "NB = GaussianNB()\n",
    "KNN = KNeighborsClassifier(n_neighbors = 25, weights = 'uniform')\n",
    "DT = DecisionTreeClassifier(criterion = 'entropy',random_state = 0)\n",
    "RF = RandomForestClassifier(criterion = 'entropy',n_estimators = 11, random_state = 0)\n",
    "Bag = BaggingClassifier(n_estimators = 26, random_state = 0)\n",
    "AdaB = AdaBoostClassifier(n_estimators = 10, random_state = 0)\n",
    "Ada_LR = AdaBoostClassifier(base_estimator = LR, n_estimators = 6, random_state = 0)\n",
    "GB = GradientBoostingClassifier(n_estimators = 60)\n",
    "stacked = VotingClassifier(estimators = [('Logistic',LR),('Random_Forest',RF),('GradientBoost',GB)],voting = 'soft')"
   ]
  },
  {
   "cell_type": "code",
   "execution_count": 92,
   "metadata": {},
   "outputs": [],
   "source": [
    "models = []\n",
    "models.append(('Logistic',LR))\n",
    "models.append(('Naive_Bayes',NB))\n",
    "models.append(('KNeighborsClassifier',KNN))\n",
    "models.append(('DecisionTreeClassifier',DT))\n",
    "models.append(('RandomForestClassifier',RF))\n",
    "models.append(('BaggingClassifier',Bag))\n",
    "models.append(('AdaBoostClassifier',AdaB))\n",
    "models.append(('AdaBoostClassifier_LogisticRegression',Ada_LR))\n",
    "models.append(('GradientBoostingClassifier',GB))\n",
    "models.append(('VotingClassifier',stacked))"
   ]
  },
  {
   "cell_type": "code",
   "execution_count": 93,
   "metadata": {},
   "outputs": [
    {
     "name": "stdout",
     "output_type": "stream",
     "text": [
      "Logistic: 0.965819 (0.003505)\n",
      "Naive_Bayes: 0.949093 (0.000000)\n",
      "KNeighborsClassifier: 0.960382 (0.001862)\n",
      "DecisionTreeClassifier: 0.949320 (0.000303)\n",
      "RandomForestClassifier: 0.960487 (0.000100)\n",
      "BaggingClassifier: 0.955157 (0.000095)\n",
      "AdaBoostClassifier: 0.909871 (0.000425)\n",
      "AdaBoostClassifier_LogisticRegression: 0.977268 (0.000681)\n",
      "GradientBoostingClassifier: 0.960541 (0.000098)\n",
      "VotingClassifier: 0.977589 (0.000095)\n"
     ]
    },
    {
     "data": {
      "image/png": "[encoded data removed]",
      "text/plain": [
       "<Figure size 432x288 with 1 Axes>"
      ]
     },
     "metadata": {
      "needs_background": "light"
     },
     "output_type": "display_data"
    }
   ],
   "source": [
    "# Evaluate each Model in turn\n",
    "\n",
    "results = []\n",
    "names = []\n",
    "for name,model in models:\n",
    "    kfold = model_selection.KFold(shuffle = True, n_splits = 3, random_state = 0)\n",
    "    cv_results = model_selection.cross_val_score(model,X_std,Y, cv = kfold, scoring = 'f1_weighted')\n",
    "    results.append(cv_results)\n",
    "    names.append(name)\n",
    "    print('%s: %f (%f)' % (name, np.mean(cv_results), np.var(cv_results, ddof = 1)))\n",
    "    \n",
    "\n",
    "    \n",
    "# Boxplot Algorithm Comparision\n",
    "\n",
    "fig = plt.figure()\n",
    "fig.suptitle('Algorithm Comparision')\n",
    "ax = fig.add_subplot(111)\n",
    "plt.boxplot(results)\n",
    "ax.set_xticklabels(name)\n",
    "plt.show()"
   ]
  },
  {
   "cell_type": "markdown",
   "metadata": {},
   "source": [
    "**Stacked Model has Yielded us the best results. we go the Least Bias Error and a very Low Variance Error**"
   ]
  },
  {
   "cell_type": "code",
   "execution_count": null,
   "metadata": {},
   "outputs": [],
   "source": []
  },
  {
   "cell_type": "code",
   "execution_count": null,
   "metadata": {},
   "outputs": [],
   "source": []
  },
  {
   "cell_type": "code",
   "execution_count": null,
   "metadata": {},
   "outputs": [],
   "source": []
  },
  {
   "cell_type": "markdown",
   "metadata": {},
   "source": [
    "#**Machine Learning Steps:**\n",
    "\n",
    "1. Load the data\n",
    "2. Explore the data, try to understand the relationship between dependent and independent variables.\n",
    "3. Data Cleaning / Feature Selection:\n",
    "  * Clean the data (if neccesary look for Nan values or drop NA or median imputation or KNN imputation as required)\n",
    "  * Statistical Tests: Apply the appropriate test based on data. Levene, Two-Sample T-Test, ANOVA, Two-sample proportion test, or Chi-Square Test Tip: Start by testing the signifance of the least correalated data. If that passes the p-value test that means by defaults all of others are significant. If it not, then go the least second correlated feature and test the signifance. Once a feature passes any other variable which has higher correlation will automatically pass the test.\n",
    "\n",
    "4. Define X_final and Y. Include all significant feature in X_final\n",
    "  * For Classification Model: Scale the data after defining X, \"sc.fit_transform(X_Final)\". NOT REQUIRED FOR REGRESSION\n",
    "\n",
    "5. Start with SIMPLE Model such as (Linear Regression or Logistic Regression) by using k-fold cross validation loop\n",
    "  * Rule of Thumb for K-Fold:\n",
    "    * Data points: 300 (k-fold = 3), 400 - 500 (k-fold = 5), 1000 (k-fold = 5 -7), 5000 (k-fold = 10 - 15), as data points increase gradually increase the fold\n",
    "\n",
    "6. Validate the linear model based on metrics: (Ex: we are k-fold 5)\n",
    "  * Regression: RMSE score (Smaller the score the better)\n",
    "    * Bias Error: Average of RMSE is Bias Error. Ex: We would get 5 RMSE scores for 5-fold cv, we take average of these score and that is the bias error.\n",
    "    * Variance Error: Variance of RMSE scores is variance Error\n",
    "  * Binary (1/0) Classification Model: AUC Score (Larger the score the better)\n",
    "    * Bias Error: 1 - (Average AUC Scores). Ex: 5-fold cv we get 5 AUC scores, 1 - (average of 5 scores) = Bias Error of the model\n",
    "    * Variance Error: Variance of AUC Scores is variance error\n",
    "  * Multi-Class Classification: Weighted F-1 Score (Larger the score the better)\n",
    "    * Bias Error: 1 - (Average Weighted F-1 Scores). Ex: 5-fold cv we get 5 Weighted F-1 Scores, 1 - (average of 5 scores) = Bias Error of the model\n",
    "    * Variance Error: Variance of Weighted F-1 Scores is variance error\n",
    "\n",
    "7. Next, start with model which we input hyperparameters\n",
    "  * GridSeachCV for find hyperparameters when you want to consider BIAS error\n",
    "  \n",
    "        **OR**\n",
    "\n",
    "  * Run a loop **(RECOMMENDED)** to find the best hyperparameters, this method is recommened because GridSearchCV only takes BIAS error into account and not variance error. Ex: We are trying to figure out the best hyperparameters for KNN run a loop and print and variance to find the which combination of hyperparameters gives the least bias and variance error: \n",
    "\n",
    "  Hyperparameters we look for:\n",
    "\n",
    "  * KNN: n_neighbors\n",
    "  * Decision Tree: max_depth (arange(1,50, it also depends on data size), criterion  = [gini or entropy]\n",
    "  * Ensemble Models: n_estimators (arange(1,50 or 100)"
   ]
  },
  {
   "cell_type": "code",
   "execution_count": null,
   "metadata": {},
   "outputs": [],
   "source": []
  }
 ],
 "metadata": {
  "kernelspec": {
   "display_name": "Python 3",
   "language": "python",
   "name": "python3"
  },
  "language_info": {
   "codemirror_mode": {
    "name": "ipython",
    "version": 3
   },
   "file_extension": ".py",
   "mimetype": "text/x-python",
   "name": "python",
   "nbconvert_exporter": "python",
   "pygments_lexer": "ipython3",
   "version": "3.7.3"
  }
 },
 "nbformat": 4,
 "nbformat_minor": 2
}
